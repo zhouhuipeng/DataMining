{
 "cells": [
  {
   "cell_type": "code",
   "execution_count": 1,
   "id": "028c6dc5",
   "metadata": {},
   "outputs": [],
   "source": [
    "%matplotlib inline\n",
    "import matplotlib\n",
    "import matplotlib.pyplot as plt\n",
    "import pandas as pd\n",
    "import tqdm\n",
    "import numpy as np\n",
    "from sklearn.linear_model import LinearRegression\n",
    "import scipy.stats as stats\n",
    "import warnings\n",
    "warnings.filterwarnings('ignore')"
   ]
  },
  {
   "cell_type": "code",
   "execution_count": 2,
   "id": "6b5849b2",
   "metadata": {},
   "outputs": [
    {
     "name": "stdout",
     "output_type": "stream",
     "text": [
      "(数据挖掘作业一）选用数据集：Chicago Building Violations\n"
     ]
    }
   ],
   "source": [
    "print(\"(数据挖掘作业一）选用数据集：Chicago Building Violations\")"
   ]
  },
  {
   "cell_type": "code",
   "execution_count": 15,
   "id": "d49c4b23",
   "metadata": {},
   "outputs": [
    {
     "name": "stdout",
     "output_type": "stream",
     "text": [
      "加载数据集\n",
      "属性类别数: 31\n",
      "总行数: 1677788\n",
      "示例数据:\n"
     ]
    },
    {
     "data": {
      "text/html": [
       "<div>\n",
       "<style scoped>\n",
       "    .dataframe tbody tr th:only-of-type {\n",
       "        vertical-align: middle;\n",
       "    }\n",
       "\n",
       "    .dataframe tbody tr th {\n",
       "        vertical-align: top;\n",
       "    }\n",
       "\n",
       "    .dataframe thead th {\n",
       "        text-align: right;\n",
       "    }\n",
       "</style>\n",
       "<table border=\"1\" class=\"dataframe\">\n",
       "  <thead>\n",
       "    <tr style=\"text-align: right;\">\n",
       "      <th></th>\n",
       "      <th>VIOLATION LAST MODIFIED DATE</th>\n",
       "      <th>VIOLATION DATE</th>\n",
       "      <th>VIOLATION CODE</th>\n",
       "      <th>VIOLATION STATUS</th>\n",
       "      <th>VIOLATION STATUS DATE</th>\n",
       "      <th>VIOLATION DESCRIPTION</th>\n",
       "      <th>VIOLATION LOCATION</th>\n",
       "      <th>VIOLATION INSPECTOR COMMENTS</th>\n",
       "      <th>VIOLATION ORDINANCE</th>\n",
       "      <th>INSPECTOR ID</th>\n",
       "      <th>...</th>\n",
       "      <th>SSA</th>\n",
       "      <th>LATITUDE</th>\n",
       "      <th>LONGITUDE</th>\n",
       "      <th>LOCATION</th>\n",
       "      <th>Community Areas</th>\n",
       "      <th>Zip Codes</th>\n",
       "      <th>Boundaries - ZIP Codes</th>\n",
       "      <th>Census Tracts</th>\n",
       "      <th>Wards</th>\n",
       "      <th>Historical Wards 2003-2015</th>\n",
       "    </tr>\n",
       "    <tr>\n",
       "      <th>ID</th>\n",
       "      <th></th>\n",
       "      <th></th>\n",
       "      <th></th>\n",
       "      <th></th>\n",
       "      <th></th>\n",
       "      <th></th>\n",
       "      <th></th>\n",
       "      <th></th>\n",
       "      <th></th>\n",
       "      <th></th>\n",
       "      <th></th>\n",
       "      <th></th>\n",
       "      <th></th>\n",
       "      <th></th>\n",
       "      <th></th>\n",
       "      <th></th>\n",
       "      <th></th>\n",
       "      <th></th>\n",
       "      <th></th>\n",
       "      <th></th>\n",
       "      <th></th>\n",
       "    </tr>\n",
       "  </thead>\n",
       "  <tbody>\n",
       "    <tr>\n",
       "      <th>6392482</th>\n",
       "      <td>2019-12-04T12:40:09.000</td>\n",
       "      <td>2019-12-04T00:00:00.000</td>\n",
       "      <td>CN196019</td>\n",
       "      <td>OPEN</td>\n",
       "      <td>NaN</td>\n",
       "      <td>NO POSTED ADDRESS</td>\n",
       "      <td>OTHER   :    :OTHER</td>\n",
       "      <td>BUILDING ADRESSES - INCOMPLETE WITH MISSING #'S.</td>\n",
       "      <td>Post address of building in conspicuous place ...</td>\n",
       "      <td>371335</td>\n",
       "      <td>...</td>\n",
       "      <td>NaN</td>\n",
       "      <td>41.749169</td>\n",
       "      <td>-87.602551</td>\n",
       "      <td>{'latitude': '41.749169067345306', 'human_addr...</td>\n",
       "      <td>40.0</td>\n",
       "      <td>21546.0</td>\n",
       "      <td>61.0</td>\n",
       "      <td>247.0</td>\n",
       "      <td>35.0</td>\n",
       "      <td>9.0</td>\n",
       "    </tr>\n",
       "    <tr>\n",
       "      <th>6392480</th>\n",
       "      <td>2019-12-04T12:40:09.000</td>\n",
       "      <td>2019-12-04T00:00:00.000</td>\n",
       "      <td>CN061014</td>\n",
       "      <td>OPEN</td>\n",
       "      <td>NaN</td>\n",
       "      <td>REPAIR EXTERIOR WALL</td>\n",
       "      <td>OTHER   :    :OTHER</td>\n",
       "      <td>WEST AND SOUTH ELEVATIONS / EXTERIOR WALLS - M...</td>\n",
       "      <td>Failed to maintain the exterior walls of a bui...</td>\n",
       "      <td>371335</td>\n",
       "      <td>...</td>\n",
       "      <td>NaN</td>\n",
       "      <td>41.749169</td>\n",
       "      <td>-87.602551</td>\n",
       "      <td>{'latitude': '41.749169067345306', 'human_addr...</td>\n",
       "      <td>40.0</td>\n",
       "      <td>21546.0</td>\n",
       "      <td>61.0</td>\n",
       "      <td>247.0</td>\n",
       "      <td>35.0</td>\n",
       "      <td>9.0</td>\n",
       "    </tr>\n",
       "    <tr>\n",
       "      <th>6392335</th>\n",
       "      <td>2019-12-04T14:00:12.000</td>\n",
       "      <td>2019-12-04T00:00:00.000</td>\n",
       "      <td>CN138106</td>\n",
       "      <td>OPEN</td>\n",
       "      <td>NaN</td>\n",
       "      <td>STOP/REMOVE NUISANCE</td>\n",
       "      <td>OTHER   :    :OTHER</td>\n",
       "      <td>YARD AREA; ABANDON VEHICLE.</td>\n",
       "      <td>Remove and stop nuisance. (7-28-060)</td>\n",
       "      <td>BL00444</td>\n",
       "      <td>...</td>\n",
       "      <td>NaN</td>\n",
       "      <td>41.711751</td>\n",
       "      <td>-87.537842</td>\n",
       "      <td>{'latitude': '41.71175105491413', 'human_addre...</td>\n",
       "      <td>49.0</td>\n",
       "      <td>21202.0</td>\n",
       "      <td>25.0</td>\n",
       "      <td>528.0</td>\n",
       "      <td>47.0</td>\n",
       "      <td>47.0</td>\n",
       "    </tr>\n",
       "    <tr>\n",
       "      <th>6391883</th>\n",
       "      <td>2019-12-04T08:32:01.000</td>\n",
       "      <td>2019-12-04T00:00:00.000</td>\n",
       "      <td>CN197039</td>\n",
       "      <td>OPEN</td>\n",
       "      <td>NaN</td>\n",
       "      <td>RELOCATE SMOKE DETECTOR</td>\n",
       "      <td>INTERIOR:003 :</td>\n",
       "      <td>HALLWAY - SMOKE DETECTOR - 4FT BELOW CEILING.</td>\n",
       "      <td>Relocate improperly installed smoke detectors....</td>\n",
       "      <td>BL00722</td>\n",
       "      <td>...</td>\n",
       "      <td>25.0</td>\n",
       "      <td>41.844521</td>\n",
       "      <td>-87.712416</td>\n",
       "      <td>{'latitude': '41.84452110252742', 'human_addre...</td>\n",
       "      <td>32.0</td>\n",
       "      <td>21569.0</td>\n",
       "      <td>57.0</td>\n",
       "      <td>755.0</td>\n",
       "      <td>28.0</td>\n",
       "      <td>14.0</td>\n",
       "    </tr>\n",
       "    <tr>\n",
       "      <th>6392369</th>\n",
       "      <td>2019-12-04T14:14:24.000</td>\n",
       "      <td>2019-12-04T00:00:00.000</td>\n",
       "      <td>CN065034</td>\n",
       "      <td>OPEN</td>\n",
       "      <td>NaN</td>\n",
       "      <td>REPAIR WINDOW SILLS</td>\n",
       "      <td>OTHER   :    :OTHER</td>\n",
       "      <td>EAST WINDOW SILLS; OPEN JOINTS.</td>\n",
       "      <td>Failed to maintain window sill in good repair ...</td>\n",
       "      <td>BL00444</td>\n",
       "      <td>...</td>\n",
       "      <td>NaN</td>\n",
       "      <td>41.753908</td>\n",
       "      <td>-87.562784</td>\n",
       "      <td>{'latitude': '41.75390787131238', 'human_addre...</td>\n",
       "      <td>39.0</td>\n",
       "      <td>22538.0</td>\n",
       "      <td>24.0</td>\n",
       "      <td>246.0</td>\n",
       "      <td>37.0</td>\n",
       "      <td>43.0</td>\n",
       "    </tr>\n",
       "  </tbody>\n",
       "</table>\n",
       "<p>5 rows × 31 columns</p>\n",
       "</div>"
      ],
      "text/plain": [
       "        VIOLATION LAST MODIFIED DATE           VIOLATION DATE VIOLATION CODE  \\\n",
       "ID                                                                             \n",
       "6392482      2019-12-04T12:40:09.000  2019-12-04T00:00:00.000       CN196019   \n",
       "6392480      2019-12-04T12:40:09.000  2019-12-04T00:00:00.000       CN061014   \n",
       "6392335      2019-12-04T14:00:12.000  2019-12-04T00:00:00.000       CN138106   \n",
       "6391883      2019-12-04T08:32:01.000  2019-12-04T00:00:00.000       CN197039   \n",
       "6392369      2019-12-04T14:14:24.000  2019-12-04T00:00:00.000       CN065034   \n",
       "\n",
       "        VIOLATION STATUS VIOLATION STATUS DATE    VIOLATION DESCRIPTION  \\\n",
       "ID                                                                        \n",
       "6392482             OPEN                   NaN        NO POSTED ADDRESS   \n",
       "6392480             OPEN                   NaN     REPAIR EXTERIOR WALL   \n",
       "6392335             OPEN                   NaN     STOP/REMOVE NUISANCE   \n",
       "6391883             OPEN                   NaN  RELOCATE SMOKE DETECTOR   \n",
       "6392369             OPEN                   NaN      REPAIR WINDOW SILLS   \n",
       "\n",
       "          VIOLATION LOCATION  \\\n",
       "ID                             \n",
       "6392482  OTHER   :    :OTHER   \n",
       "6392480  OTHER   :    :OTHER   \n",
       "6392335  OTHER   :    :OTHER   \n",
       "6391883       INTERIOR:003 :   \n",
       "6392369  OTHER   :    :OTHER   \n",
       "\n",
       "                              VIOLATION INSPECTOR COMMENTS  \\\n",
       "ID                                                           \n",
       "6392482   BUILDING ADRESSES - INCOMPLETE WITH MISSING #'S.   \n",
       "6392480  WEST AND SOUTH ELEVATIONS / EXTERIOR WALLS - M...   \n",
       "6392335                        YARD AREA; ABANDON VEHICLE.   \n",
       "6391883      HALLWAY - SMOKE DETECTOR - 4FT BELOW CEILING.   \n",
       "6392369                    EAST WINDOW SILLS; OPEN JOINTS.   \n",
       "\n",
       "                                       VIOLATION ORDINANCE INSPECTOR ID  \\\n",
       "ID                                                                        \n",
       "6392482  Post address of building in conspicuous place ...       371335   \n",
       "6392480  Failed to maintain the exterior walls of a bui...       371335   \n",
       "6392335               Remove and stop nuisance. (7-28-060)      BL00444   \n",
       "6391883  Relocate improperly installed smoke detectors....      BL00722   \n",
       "6392369  Failed to maintain window sill in good repair ...      BL00444   \n",
       "\n",
       "                   ...               SSA   LATITUDE  LONGITUDE  \\\n",
       "ID                 ...                                           \n",
       "6392482            ...               NaN  41.749169 -87.602551   \n",
       "6392480            ...               NaN  41.749169 -87.602551   \n",
       "6392335            ...               NaN  41.711751 -87.537842   \n",
       "6391883            ...              25.0  41.844521 -87.712416   \n",
       "6392369            ...               NaN  41.753908 -87.562784   \n",
       "\n",
       "                                                  LOCATION Community Areas  \\\n",
       "ID                                                                           \n",
       "6392482  {'latitude': '41.749169067345306', 'human_addr...            40.0   \n",
       "6392480  {'latitude': '41.749169067345306', 'human_addr...            40.0   \n",
       "6392335  {'latitude': '41.71175105491413', 'human_addre...            49.0   \n",
       "6391883  {'latitude': '41.84452110252742', 'human_addre...            32.0   \n",
       "6392369  {'latitude': '41.75390787131238', 'human_addre...            39.0   \n",
       "\n",
       "        Zip Codes  Boundaries - ZIP Codes Census Tracts Wards  \\\n",
       "ID                                                              \n",
       "6392482   21546.0                    61.0         247.0  35.0   \n",
       "6392480   21546.0                    61.0         247.0  35.0   \n",
       "6392335   21202.0                    25.0         528.0  47.0   \n",
       "6391883   21569.0                    57.0         755.0  28.0   \n",
       "6392369   22538.0                    24.0         246.0  37.0   \n",
       "\n",
       "        Historical Wards 2003-2015  \n",
       "ID                                  \n",
       "6392482                        9.0  \n",
       "6392480                        9.0  \n",
       "6392335                       47.0  \n",
       "6391883                       14.0  \n",
       "6392369                       43.0  \n",
       "\n",
       "[5 rows x 31 columns]"
      ]
     },
     "execution_count": 15,
     "metadata": {},
     "output_type": "execute_result"
    }
   ],
   "source": [
    "print('加载数据集')\n",
    "data = pd.read_csv('building-violations.csv', index_col=0)\n",
    "print('属性类别数:', len(data.columns))\n",
    "print('总行数:', len(data))\n",
    "print('示例数据:')\n",
    "data.head(5)"
   ]
  },
  {
   "cell_type": "code",
   "execution_count": 16,
   "id": "4ea88481",
   "metadata": {},
   "outputs": [
    {
     "name": "stdout",
     "output_type": "stream",
     "text": [
      "提取每一列属性以及名称\n",
      "标称属性: ['VIOLATION LAST MODIFIED DATE' 'VIOLATION DATE' 'VIOLATION CODE'\n",
      " 'VIOLATION STATUS' 'VIOLATION STATUS DATE' 'VIOLATION DESCRIPTION'\n",
      " 'VIOLATION LOCATION' 'VIOLATION INSPECTOR COMMENTS' 'VIOLATION ORDINANCE'\n",
      " 'INSPECTOR ID' 'INSPECTION STATUS' 'INSPECTION WAIVED'\n",
      " 'INSPECTION CATEGORY' 'DEPARTMENT BUREAU' 'ADDRESS' 'STREET DIRECTION'\n",
      " 'STREET NAME' 'STREET TYPE' 'LOCATION']\n",
      "数值属性: ['INSPECTION NUMBER' 'STREET NUMBER' 'PROPERTY GROUP' 'SSA' 'LATITUDE'\n",
      " 'LONGITUDE' 'Community Areas' 'Zip Codes' 'Boundaries - ZIP Codes'\n",
      " 'Census Tracts' 'Wards' 'Historical Wards 2003-2015']\n",
      "(1677788, 31)   (19,)   (12,)\n"
     ]
    }
   ],
   "source": [
    "print('提取每一列属性以及名称')\n",
    "num_fields = data.select_dtypes(include=np.number).columns.values\n",
    "nom_fields = data.select_dtypes(exclude=np.number).columns.values\n",
    "print('标称属性:', nom_fields)\n",
    "print('数值属性:', num_fields)\n",
    "print(data.shape,\" \",nom_fields.shape,\" \",num_fields.shape)"
   ]
  },
  {
   "cell_type": "code",
   "execution_count": 17,
   "id": "053dcc1f",
   "metadata": {
    "scrolled": true
   },
   "outputs": [
    {
     "name": "stdout",
     "output_type": "stream",
     "text": [
      "频数统计（由于有31个属性，因此只展示3个属性的频数统计）:\n",
      "\n",
      "VIOLATION LAST MODIFIED DATE:\n",
      "2016-05-17T00:00:00.000    5889\n",
      "2009-08-17T13:15:31.000     717\n",
      "2008-11-18T16:48:49.000     156\n",
      "2019-07-03T15:01:59.000     116\n",
      "2014-03-24T09:36:12.000      82\n",
      "2015-12-08T15:51:42.000      82\n",
      "2015-03-06T13:36:41.000      80\n",
      "2014-02-28T14:59:53.000      80\n",
      "2010-02-23T14:50:55.000      72\n",
      "2011-03-24T14:22:59.000      70\n",
      "2012-11-02T12:20:24.000      69\n",
      "2012-05-14T11:49:49.000      67\n",
      "2017-10-13T09:50:07.000      62\n",
      "2014-11-04T14:26:13.000      58\n",
      "2019-07-10T14:19:13.000      57\n",
      "2016-07-12T16:27:34.000      57\n",
      "2014-11-19T15:27:03.000      56\n",
      "2016-07-12T15:27:13.000      55\n",
      "2007-02-16T08:17:48.000      53\n",
      "2014-08-12T15:37:32.000      53\n",
      "2010-03-29T09:26:39.000      52\n",
      "2016-07-05T11:59:45.000      52\n",
      "2016-03-31T09:41:25.000      52\n",
      "2018-05-10T09:48:37.000      52\n",
      "2011-04-04T08:28:41.000      51\n",
      "2016-03-24T11:26:18.000      51\n",
      "2018-08-20T08:40:45.000      51\n",
      "2015-06-25T11:55:10.000      50\n",
      "2015-05-18T09:54:24.000      50\n",
      "2015-12-22T11:12:49.000      50\n",
      "                           ... \n",
      "2007-03-13T14:42:43.000       1\n",
      "2007-08-31T14:06:16.000       1\n",
      "2018-12-24T13:22:13.000       1\n",
      "2019-01-23T13:13:32.000       1\n",
      "2008-06-30T14:19:13.000       1\n",
      "2008-07-10T11:09:30.000       1\n",
      "2010-05-27T09:19:55.000       1\n",
      "2013-05-03T11:52:32.000       1\n",
      "2007-04-19T09:58:57.000       1\n",
      "2019-03-12T14:48:46.000       1\n",
      "2013-01-03T07:29:38.000       1\n",
      "2007-04-18T13:57:35.000       1\n",
      "2018-10-30T07:10:42.000       1\n",
      "2007-08-29T10:21:02.000       1\n",
      "2013-04-18T13:23:24.000       1\n",
      "2015-09-29T09:01:57.000       1\n",
      "2018-08-07T15:08:22.000       1\n",
      "2006-07-21T14:50:55.000       1\n",
      "2008-07-02T11:46:15.000       1\n",
      "2017-05-19T14:48:17.000       1\n",
      "2018-07-30T15:44:28.000       1\n",
      "2006-06-08T11:13:40.000       1\n",
      "2018-10-10T07:20:29.000       1\n",
      "2008-04-15T09:23:50.000       1\n",
      "2018-11-23T10:56:04.000       1\n",
      "2007-12-24T14:16:16.000       1\n",
      "2007-09-18T13:11:08.000       1\n",
      "2007-07-26T06:44:13.000       1\n",
      "2007-07-11T14:34:13.000       1\n",
      "2006-07-31T10:38:32.000       1\n",
      "Name: VIOLATION LAST MODIFIED DATE, Length: 953167, dtype: int64\n",
      "\n",
      "VIOLATION DATE:\n",
      "2006-03-24T00:00:00.000    1723\n",
      "2006-06-20T00:00:00.000    1595\n",
      "2006-03-10T00:00:00.000    1423\n",
      "2006-01-02T00:00:00.000    1299\n",
      "2006-03-28T00:00:00.000    1252\n",
      "2006-06-01T00:00:00.000    1222\n",
      "2006-05-31T00:00:00.000    1219\n",
      "2006-03-29T00:00:00.000    1162\n",
      "2006-05-05T00:00:00.000    1132\n",
      "2006-04-26T00:00:00.000    1117\n",
      "2006-05-10T00:00:00.000    1107\n",
      "2006-03-27T00:00:00.000    1070\n",
      "2006-08-29T00:00:00.000    1057\n",
      "2006-05-09T00:00:00.000    1053\n",
      "2006-03-16T00:00:00.000    1039\n",
      "2007-01-05T00:00:00.000    1016\n",
      "2007-03-27T00:00:00.000    1011\n",
      "2007-10-02T00:00:00.000     999\n",
      "2006-04-06T00:00:00.000     997\n",
      "2009-03-30T00:00:00.000     996\n",
      "2007-01-02T00:00:00.000     991\n",
      "2007-08-28T00:00:00.000     989\n",
      "2006-06-06T00:00:00.000     982\n",
      "2006-03-31T00:00:00.000     981\n",
      "2007-06-27T00:00:00.000     977\n",
      "2006-03-03T00:00:00.000     976\n",
      "2006-06-02T00:00:00.000     969\n",
      "2006-06-29T00:00:00.000     956\n",
      "2006-08-09T00:00:00.000     953\n",
      "2007-09-26T00:00:00.000     950\n",
      "                           ... \n",
      "2010-02-15T00:00:00.000       1\n",
      "2014-06-07T00:00:00.000       1\n",
      "2019-03-03T00:00:00.000       1\n",
      "2018-06-24T00:00:00.000       1\n",
      "2013-11-24T00:00:00.000       1\n",
      "2016-03-13T00:00:00.000       1\n",
      "2016-02-15T00:00:00.000       1\n",
      "2009-11-27T00:00:00.000       1\n",
      "2011-05-14T00:00:00.000       1\n",
      "2018-11-04T00:00:00.000       1\n",
      "2013-12-21T00:00:00.000       1\n",
      "2015-10-11T00:00:00.000       1\n",
      "2010-12-12T00:00:00.000       1\n",
      "2018-12-23T00:00:00.000       1\n",
      "2006-10-09T00:00:00.000       1\n",
      "2015-05-23T00:00:00.000       1\n",
      "2019-06-23T00:00:00.000       1\n",
      "2019-09-08T00:00:00.000       1\n",
      "2017-01-08T00:00:00.000       1\n",
      "2019-06-09T00:00:00.000       1\n",
      "2011-02-27T00:00:00.000       1\n",
      "2015-09-06T00:00:00.000       1\n",
      "2015-01-31T00:00:00.000       1\n",
      "2007-04-15T00:00:00.000       1\n",
      "2013-08-10T00:00:00.000       1\n",
      "2015-11-11T00:00:00.000       1\n",
      "2008-04-13T00:00:00.000       1\n",
      "2013-01-05T00:00:00.000       1\n",
      "2009-04-26T00:00:00.000       1\n",
      "2018-01-15T00:00:00.000       1\n",
      "Name: VIOLATION DATE, Length: 4463, dtype: int64\n",
      "\n",
      "VIOLATION CODE:\n",
      "CN190019    89995\n",
      "CN196029    58136\n",
      "CN061014    51946\n",
      "EV1110      43700\n",
      "CN070024    43673\n",
      "CN193110    37127\n",
      "CN104015    34641\n",
      "CN070014    32093\n",
      "CN197019    30793\n",
      "NC2011      28750\n",
      "CN198019    26670\n",
      "CN138106    25774\n",
      "EV1111      25639\n",
      "CN197087    23338\n",
      "CN138056    23332\n",
      "CN073014    19956\n",
      "CN015062    19877\n",
      "CN101015    19436\n",
      "CN062024    19204\n",
      "CN079014    17703\n",
      "CN063014    16776\n",
      "CN193019    16273\n",
      "CN193000    16262\n",
      "CN193029    16098\n",
      "199029      15971\n",
      "CN074014    15898\n",
      "CN104035    15843\n",
      "VT1010      15241\n",
      "CN065034    14868\n",
      "CN196039    14794\n",
      "            ...  \n",
      "HV6050          1\n",
      "CEE301          1\n",
      "PL237006        1\n",
      "ELX064          1\n",
      "EL1814          1\n",
      "ELBC01          1\n",
      "EV0079          1\n",
      "EV0264          1\n",
      "CN193346        1\n",
      "EV0122          1\n",
      "EV0168          1\n",
      "EV0152          1\n",
      "EV0128          1\n",
      "PLD2293         1\n",
      "RP2545          1\n",
      "VG2403          1\n",
      "PLS1296         1\n",
      "FP3026          1\n",
      "EV0291          1\n",
      "ES1807          1\n",
      "FP1273          1\n",
      "ELL1415         1\n",
      "ARF552          1\n",
      "PL234034        1\n",
      "EV0216          1\n",
      "HV6010          1\n",
      "PLC2305         1\n",
      "ELS1787         1\n",
      "PLD2290         1\n",
      "FP1007          1\n",
      "Name: VIOLATION CODE, Length: 1468, dtype: int64\n"
     ]
    }
   ],
   "source": [
    "print('频数统计（由于有31个属性条目过多，因此只展示3个属性的频数统计）:')\n",
    "\n",
    "print('\\nVIOLATION LAST MODIFIED DATE:')\n",
    "a=data['VIOLATION LAST MODIFIED DATE'].value_counts()\n",
    "print(a)\n",
    "\n",
    "print('\\nVIOLATION DATE:')\n",
    "b=data['VIOLATION DATE'].value_counts()\n",
    "print(b)\n",
    "\n",
    "print('\\nVIOLATION CODE:')\n",
    "c=data['VIOLATION CODE'].value_counts()\n",
    "print(c)"
   ]
  },
  {
   "cell_type": "code",
   "execution_count": 19,
   "id": "30de4423",
   "metadata": {},
   "outputs": [
    {
     "name": "stdout",
     "output_type": "stream",
     "text": [
      "展示每一属性的5数统计(只对数值进行统计)：\n"
     ]
    },
    {
     "data": {
      "text/html": [
       "<div>\n",
       "<style scoped>\n",
       "    .dataframe tbody tr th:only-of-type {\n",
       "        vertical-align: middle;\n",
       "    }\n",
       "\n",
       "    .dataframe tbody tr th {\n",
       "        vertical-align: top;\n",
       "    }\n",
       "\n",
       "    .dataframe thead th {\n",
       "        text-align: right;\n",
       "    }\n",
       "</style>\n",
       "<table border=\"1\" class=\"dataframe\">\n",
       "  <thead>\n",
       "    <tr style=\"text-align: right;\">\n",
       "      <th></th>\n",
       "      <th>INSPECTION NUMBER</th>\n",
       "      <th>STREET NUMBER</th>\n",
       "      <th>PROPERTY GROUP</th>\n",
       "      <th>SSA</th>\n",
       "      <th>LATITUDE</th>\n",
       "      <th>LONGITUDE</th>\n",
       "      <th>Community Areas</th>\n",
       "      <th>Zip Codes</th>\n",
       "      <th>Boundaries - ZIP Codes</th>\n",
       "      <th>Census Tracts</th>\n",
       "      <th>Wards</th>\n",
       "      <th>Historical Wards 2003-2015</th>\n",
       "    </tr>\n",
       "  </thead>\n",
       "  <tbody>\n",
       "    <tr>\n",
       "      <th>count</th>\n",
       "      <td>1.677788e+06</td>\n",
       "      <td>1.677788e+06</td>\n",
       "      <td>1.677788e+06</td>\n",
       "      <td>321521.000000</td>\n",
       "      <td>1.676278e+06</td>\n",
       "      <td>1.676278e+06</td>\n",
       "      <td>1.675509e+06</td>\n",
       "      <td>1.676278e+06</td>\n",
       "      <td>1.675509e+06</td>\n",
       "      <td>1.676243e+06</td>\n",
       "      <td>1.675509e+06</td>\n",
       "      <td>1.675509e+06</td>\n",
       "    </tr>\n",
       "    <tr>\n",
       "      <th>mean</th>\n",
       "      <td>8.049798e+06</td>\n",
       "      <td>4.150382e+03</td>\n",
       "      <td>2.020547e+05</td>\n",
       "      <td>33.769197</td>\n",
       "      <td>4.184566e+01</td>\n",
       "      <td>-8.767266e+01</td>\n",
       "      <td>3.873350e+01</td>\n",
       "      <td>1.933197e+04</td>\n",
       "      <td>3.118135e+01</td>\n",
       "      <td>3.800659e+02</td>\n",
       "      <td>2.513030e+01</td>\n",
       "      <td>2.750858e+01</td>\n",
       "    </tr>\n",
       "    <tr>\n",
       "      <th>std</th>\n",
       "      <td>4.555757e+06</td>\n",
       "      <td>2.893493e+03</td>\n",
       "      <td>1.862796e+05</td>\n",
       "      <td>17.428210</td>\n",
       "      <td>8.742421e-02</td>\n",
       "      <td>5.760184e-02</td>\n",
       "      <td>2.008963e+01</td>\n",
       "      <td>5.606228e+03</td>\n",
       "      <td>1.943930e+01</td>\n",
       "      <td>2.290619e+02</td>\n",
       "      <td>1.498690e+01</td>\n",
       "      <td>1.530544e+01</td>\n",
       "    </tr>\n",
       "    <tr>\n",
       "      <th>min</th>\n",
       "      <td>2.655750e+05</td>\n",
       "      <td>1.000000e+00</td>\n",
       "      <td>1.000000e+03</td>\n",
       "      <td>1.000000</td>\n",
       "      <td>4.164467e+01</td>\n",
       "      <td>-8.791444e+01</td>\n",
       "      <td>1.000000e+00</td>\n",
       "      <td>4.299000e+03</td>\n",
       "      <td>1.000000e+00</td>\n",
       "      <td>1.000000e+00</td>\n",
       "      <td>1.000000e+00</td>\n",
       "      <td>1.000000e+00</td>\n",
       "    </tr>\n",
       "    <tr>\n",
       "      <th>25%</th>\n",
       "      <td>2.304416e+06</td>\n",
       "      <td>1.648000e+03</td>\n",
       "      <td>2.056000e+04</td>\n",
       "      <td>22.000000</td>\n",
       "      <td>4.177090e+01</td>\n",
       "      <td>-8.771392e+01</td>\n",
       "      <td>2.400000e+01</td>\n",
       "      <td>2.119000e+04</td>\n",
       "      <td>1.500000e+01</td>\n",
       "      <td>1.790000e+02</td>\n",
       "      <td>1.200000e+01</td>\n",
       "      <td>1.400000e+01</td>\n",
       "    </tr>\n",
       "    <tr>\n",
       "      <th>50%</th>\n",
       "      <td>1.041875e+07</td>\n",
       "      <td>3.747000e+03</td>\n",
       "      <td>1.543230e+05</td>\n",
       "      <td>34.000000</td>\n",
       "      <td>4.185400e+01</td>\n",
       "      <td>-8.766985e+01</td>\n",
       "      <td>3.600000e+01</td>\n",
       "      <td>2.156900e+04</td>\n",
       "      <td>2.800000e+01</td>\n",
       "      <td>3.740000e+02</td>\n",
       "      <td>2.500000e+01</td>\n",
       "      <td>2.800000e+01</td>\n",
       "    </tr>\n",
       "    <tr>\n",
       "      <th>75%</th>\n",
       "      <td>1.168728e+07</td>\n",
       "      <td>6.228000e+03</td>\n",
       "      <td>3.669840e+05</td>\n",
       "      <td>49.000000</td>\n",
       "      <td>4.191350e+01</td>\n",
       "      <td>-8.763288e+01</td>\n",
       "      <td>5.800000e+01</td>\n",
       "      <td>2.224800e+04</td>\n",
       "      <td>5.200000e+01</td>\n",
       "      <td>5.720000e+02</td>\n",
       "      <td>3.700000e+01</td>\n",
       "      <td>4.100000e+01</td>\n",
       "    </tr>\n",
       "    <tr>\n",
       "      <th>max</th>\n",
       "      <td>1.305092e+07</td>\n",
       "      <td>1.377000e+04</td>\n",
       "      <td>6.779750e+05</td>\n",
       "      <td>69.000000</td>\n",
       "      <td>4.202269e+01</td>\n",
       "      <td>-8.752468e+01</td>\n",
       "      <td>7.700000e+01</td>\n",
       "      <td>2.262000e+04</td>\n",
       "      <td>6.100000e+01</td>\n",
       "      <td>8.010000e+02</td>\n",
       "      <td>5.000000e+01</td>\n",
       "      <td>5.300000e+01</td>\n",
       "    </tr>\n",
       "  </tbody>\n",
       "</table>\n",
       "</div>"
      ],
      "text/plain": [
       "       INSPECTION NUMBER  STREET NUMBER  PROPERTY GROUP            SSA  \\\n",
       "count       1.677788e+06   1.677788e+06    1.677788e+06  321521.000000   \n",
       "mean        8.049798e+06   4.150382e+03    2.020547e+05      33.769197   \n",
       "std         4.555757e+06   2.893493e+03    1.862796e+05      17.428210   \n",
       "min         2.655750e+05   1.000000e+00    1.000000e+03       1.000000   \n",
       "25%         2.304416e+06   1.648000e+03    2.056000e+04      22.000000   \n",
       "50%         1.041875e+07   3.747000e+03    1.543230e+05      34.000000   \n",
       "75%         1.168728e+07   6.228000e+03    3.669840e+05      49.000000   \n",
       "max         1.305092e+07   1.377000e+04    6.779750e+05      69.000000   \n",
       "\n",
       "           LATITUDE     LONGITUDE  Community Areas     Zip Codes  \\\n",
       "count  1.676278e+06  1.676278e+06     1.675509e+06  1.676278e+06   \n",
       "mean   4.184566e+01 -8.767266e+01     3.873350e+01  1.933197e+04   \n",
       "std    8.742421e-02  5.760184e-02     2.008963e+01  5.606228e+03   \n",
       "min    4.164467e+01 -8.791444e+01     1.000000e+00  4.299000e+03   \n",
       "25%    4.177090e+01 -8.771392e+01     2.400000e+01  2.119000e+04   \n",
       "50%    4.185400e+01 -8.766985e+01     3.600000e+01  2.156900e+04   \n",
       "75%    4.191350e+01 -8.763288e+01     5.800000e+01  2.224800e+04   \n",
       "max    4.202269e+01 -8.752468e+01     7.700000e+01  2.262000e+04   \n",
       "\n",
       "       Boundaries - ZIP Codes  Census Tracts         Wards  \\\n",
       "count            1.675509e+06   1.676243e+06  1.675509e+06   \n",
       "mean             3.118135e+01   3.800659e+02  2.513030e+01   \n",
       "std              1.943930e+01   2.290619e+02  1.498690e+01   \n",
       "min              1.000000e+00   1.000000e+00  1.000000e+00   \n",
       "25%              1.500000e+01   1.790000e+02  1.200000e+01   \n",
       "50%              2.800000e+01   3.740000e+02  2.500000e+01   \n",
       "75%              5.200000e+01   5.720000e+02  3.700000e+01   \n",
       "max              6.100000e+01   8.010000e+02  5.000000e+01   \n",
       "\n",
       "       Historical Wards 2003-2015  \n",
       "count                1.675509e+06  \n",
       "mean                 2.750858e+01  \n",
       "std                  1.530544e+01  \n",
       "min                  1.000000e+00  \n",
       "25%                  1.400000e+01  \n",
       "50%                  2.800000e+01  \n",
       "75%                  4.100000e+01  \n",
       "max                  5.300000e+01  "
      ]
     },
     "execution_count": 19,
     "metadata": {},
     "output_type": "execute_result"
    }
   ],
   "source": [
    "print('展示每一属性的5数统计(只对数值进行统计)：')\n",
    "data.describe()"
   ]
  },
  {
   "cell_type": "code",
   "execution_count": 20,
   "id": "8780c075",
   "metadata": {},
   "outputs": [
    {
     "name": "stdout",
     "output_type": "stream",
     "text": [
      "对上面的数值属性进行缺失值统计：\n",
      "\n",
      "INSPECTION NUMBER: 0\n",
      "STREET NUMBER: 0\n",
      "PROPERTY GROUP: 0\n",
      "SSA: 1356267\n",
      "LATITUDE: 1510\n",
      "LONGITUDE: 1510\n",
      "Community Areas: 2279\n",
      "Zip Codes: 1510\n",
      "Boundaries - ZIP Codes: 2279\n",
      "Census Tracts: 1545\n",
      "Wards: 2279\n",
      "Historical Wards 2003-2015: 2279\n"
     ]
    }
   ],
   "source": [
    "print('对上面的数值属性进行缺失值统计：\\n')\n",
    "print('INSPECTION NUMBER:',data['INSPECTION NUMBER'].isnull().sum())\n",
    "print('STREET NUMBER:',data['STREET NUMBER'].isnull().sum())\n",
    "print('PROPERTY GROUP:',data['PROPERTY GROUP'].isnull().sum())\n",
    "print('SSA:',data['SSA'].isnull().sum())\n",
    "print('LATITUDE:',data['LATITUDE'].isnull().sum())\n",
    "print('LONGITUDE:',data['LONGITUDE'].isnull().sum())\n",
    "print('Community Areas:',data['Community Areas'].isnull().sum())\n",
    "print('Zip Codes:',data['Zip Codes'].isnull().sum())\n",
    "print('Boundaries - ZIP Codes:',data['Boundaries - ZIP Codes'].isnull().sum())\n",
    "print('Census Tracts:',data['Census Tracts'].isnull().sum())\n",
    "print('Wards:',data['Wards'].isnull().sum())\n",
    "print('Historical Wards 2003-2015:',data['Historical Wards 2003-2015'].isnull().sum())"
   ]
  },
  {
   "cell_type": "code",
   "execution_count": 28,
   "id": "fef769a0",
   "metadata": {},
   "outputs": [
    {
     "name": "stdout",
     "output_type": "stream",
     "text": [
      "数据可视化：\n",
      "\n",
      "聚会太多导致显示效果不好，所以取前15个聚会为例（其余聚会的频数都小于200）:\n"
     ]
    },
    {
     "data": {
      "text/plain": [
       "<matplotlib.axes._subplots.AxesSubplot at 0x1ea1f052a58>"
      ]
     },
     "execution_count": 28,
     "metadata": {},
     "output_type": "execute_result"
    },
    {
     "data": {
      "image/png": "[encoded data removed]",
      "text/plain": [
       "<Figure size 432x288 with 1 Axes>"
      ]
     },
     "metadata": {
      "needs_background": "light"
     },
     "output_type": "display_data"
    }
   ],
   "source": [
    "print('数据可视化：\\n')\n",
    "field = 'INSPECTION NUMBER'\n",
    "print('数据太多导致显示数据出现重叠看不清具体值，所以取前20个INSPECTION NUMBER为例（其余INSPECTION NUMBER的频数都小于100）:')\n",
    "data[field].value_counts().head(20).plot.barh()"
   ]
  },
  {
   "cell_type": "code",
   "execution_count": 23,
   "id": "d33f93be",
   "metadata": {},
   "outputs": [
    {
     "name": "stdout",
     "output_type": "stream",
     "text": [
      "INSPECTION NUMBER 直方图和Q-Q图:\n"
     ]
    },
    {
     "data": {
      "image/png": "[encoded data removed]",
      "text/plain": [
       "<Figure size 432x288 with 2 Axes>"
      ]
     },
     "metadata": {
      "needs_background": "light"
     },
     "output_type": "display_data"
    },
    {
     "name": "stdout",
     "output_type": "stream",
     "text": [
      "STREET NUMBER 直方图和Q-Q图:\n"
     ]
    },
    {
     "data": {
      "image/png": "[encoded data removed]",
      "text/plain": [
       "<Figure size 432x288 with 2 Axes>"
      ]
     },
     "metadata": {
      "needs_background": "light"
     },
     "output_type": "display_data"
    },
    {
     "name": "stdout",
     "output_type": "stream",
     "text": [
      "PROPERTY GROUP 直方图和Q-Q图:\n"
     ]
    },
    {
     "data": {
      "image/png": "[encoded data removed]",
      "text/plain": [
       "<Figure size 432x288 with 2 Axes>"
      ]
     },
     "metadata": {
      "needs_background": "light"
     },
     "output_type": "display_data"
    },
    {
     "name": "stdout",
     "output_type": "stream",
     "text": [
      "SSA 直方图和Q-Q图:\n"
     ]
    },
    {
     "data": {
      "image/png": "[encoded data removed]",
      "text/plain": [
       "<Figure size 432x288 with 2 Axes>"
      ]
     },
     "metadata": {
      "needs_background": "light"
     },
     "output_type": "display_data"
    },
    {
     "name": "stdout",
     "output_type": "stream",
     "text": [
      "LATITUDE 直方图和Q-Q图:\n"
     ]
    },
    {
     "data": {
      "image/png": "[encoded data removed]",
      "text/plain": [
       "<Figure size 432x288 with 2 Axes>"
      ]
     },
     "metadata": {
      "needs_background": "light"
     },
     "output_type": "display_data"
    },
    {
     "name": "stdout",
     "output_type": "stream",
     "text": [
      "LONGITUDE 直方图和Q-Q图:\n"
     ]
    },
    {
     "data": {
      "image/png": "[encoded data removed]",
      "text/plain": [
       "<Figure size 432x288 with 2 Axes>"
      ]
     },
     "metadata": {
      "needs_background": "light"
     },
     "output_type": "display_data"
    },
    {
     "name": "stdout",
     "output_type": "stream",
     "text": [
      "Community Areas 直方图和Q-Q图:\n"
     ]
    },
    {
     "data": {
      "image/png": "[encoded data removed]",
      "text/plain": [
       "<Figure size 432x288 with 2 Axes>"
      ]
     },
     "metadata": {
      "needs_background": "light"
     },
     "output_type": "display_data"
    },
    {
     "name": "stdout",
     "output_type": "stream",
     "text": [
      "Zip Codes 直方图和Q-Q图:\n"
     ]
    },
    {
     "data": {
      "image/png": "[encoded data removed]",
      "text/plain": [
       "<Figure size 432x288 with 2 Axes>"
      ]
     },
     "metadata": {
      "needs_background": "light"
     },
     "output_type": "display_data"
    },
    {
     "name": "stdout",
     "output_type": "stream",
     "text": [
      "Boundaries - ZIP Codes 直方图和Q-Q图:\n"
     ]
    },
    {
     "data": {
      "image/png": "[encoded data removed]",
      "text/plain": [
       "<Figure size 432x288 with 2 Axes>"
      ]
     },
     "metadata": {
      "needs_background": "light"
     },
     "output_type": "display_data"
    },
    {
     "name": "stdout",
     "output_type": "stream",
     "text": [
      "Census Tracts 直方图和Q-Q图:\n"
     ]
    },
    {
     "data": {
      "image/png": "[encoded data removed]",
      "text/plain": [
       "<Figure size 432x288 with 2 Axes>"
      ]
     },
     "metadata": {
      "needs_background": "light"
     },
     "output_type": "display_data"
    },
    {
     "name": "stdout",
     "output_type": "stream",
     "text": [
      "Wards 直方图和Q-Q图:\n"
     ]
    },
    {
     "data": {
      "image/png": "[encoded data removed]",
      "text/plain": [
       "<Figure size 432x288 with 2 Axes>"
      ]
     },
     "metadata": {
      "needs_background": "light"
     },
     "output_type": "display_data"
    },
    {
     "name": "stdout",
     "output_type": "stream",
     "text": [
      "Historical Wards 2003-2015 直方图和Q-Q图:\n"
     ]
    },
    {
     "data": {
      "image/png": "[encoded data removed]",
      "text/plain": [
       "<Figure size 432x288 with 2 Axes>"
      ]
     },
     "metadata": {
      "needs_background": "light"
     },
     "output_type": "display_data"
    }
   ],
   "source": [
    "for field in num_fields:\n",
    "    print(field, '直方图和Q-Q图:')\n",
    "    plt.subplot(1, 2, 1)\n",
    "    data[field].plot.hist(bins=20)\n",
    "    plt.subplot(1, 2, 2)\n",
    "    stats.probplot(data[field], plot=plt)\n",
    "    plt.tight_layout()  # 调整整体空白\n",
    "    plt.show()"
   ]
  },
  {
   "cell_type": "code",
   "execution_count": 25,
   "id": "fd7ec19e",
   "metadata": {},
   "outputs": [
    {
     "name": "stdout",
     "output_type": "stream",
     "text": [
      "盒图\n",
      "\n"
     ]
    },
    {
     "data": {
      "image/png": "[encoded data removed]",
      "text/plain": [
       "<Figure size 432x288 with 1 Axes>"
      ]
     },
     "metadata": {
      "needs_background": "light"
     },
     "output_type": "display_data"
    },
    {
     "data": {
      "image/png": "[encoded data removed]",
      "text/plain": [
       "<Figure size 432x288 with 1 Axes>"
      ]
     },
     "metadata": {
      "needs_background": "light"
     },
     "output_type": "display_data"
    },
    {
     "data": {
      "image/png": "[encoded data removed]",
      "text/plain": [
       "<Figure size 432x288 with 1 Axes>"
      ]
     },
     "metadata": {
      "needs_background": "light"
     },
     "output_type": "display_data"
    },
    {
     "data": {
      "image/png": "[encoded data removed]",
      "text/plain": [
       "<Figure size 432x288 with 1 Axes>"
      ]
     },
     "metadata": {
      "needs_background": "light"
     },
     "output_type": "display_data"
    },
    {
     "data": {
      "image/png": "[encoded data removed]",
      "text/plain": [
       "<Figure size 432x288 with 1 Axes>"
      ]
     },
     "metadata": {
      "needs_background": "light"
     },
     "output_type": "display_data"
    },
    {
     "data": {
      "image/png": "[encoded data removed]",
      "text/plain": [
       "<Figure size 432x288 with 1 Axes>"
      ]
     },
     "metadata": {
      "needs_background": "light"
     },
     "output_type": "display_data"
    },
    {
     "data": {
      "image/png": "[encoded data removed]",
      "text/plain": [
       "<Figure size 432x288 with 1 Axes>"
      ]
     },
     "metadata": {
      "needs_background": "light"
     },
     "output_type": "display_data"
    },
    {
     "data": {
      "image/png": "[encoded data removed]",
      "text/plain": [
       "<Figure size 432x288 with 1 Axes>"
      ]
     },
     "metadata": {
      "needs_background": "light"
     },
     "output_type": "display_data"
    },
    {
     "data": {
      "image/png": "[encoded data removed]",
      "text/plain": [
       "<Figure size 432x288 with 1 Axes>"
      ]
     },
     "metadata": {
      "needs_background": "light"
     },
     "output_type": "display_data"
    },
    {
     "data": {
      "image/png": "[encoded data removed]",
      "text/plain": [
       "<Figure size 432x288 with 1 Axes>"
      ]
     },
     "metadata": {
      "needs_background": "light"
     },
     "output_type": "display_data"
    },
    {
     "data": {
      "image/png": "[encoded data removed]",
      "text/plain": [
       "<Figure size 432x288 with 1 Axes>"
      ]
     },
     "metadata": {
      "needs_background": "light"
     },
     "output_type": "display_data"
    },
    {
     "data": {
      "image/png": "[encoded data removed]",
      "text/plain": [
       "<Figure size 432x288 with 1 Axes>"
      ]
     },
     "metadata": {
      "needs_background": "light"
     },
     "output_type": "display_data"
    }
   ],
   "source": [
    "print('盒图\\n')\n",
    "for field in num_fields:\n",
    "    data.boxplot(field)\n",
    "    plt.show()"
   ]
  },
  {
   "cell_type": "code",
   "execution_count": 29,
   "id": "5092146f",
   "metadata": {},
   "outputs": [
    {
     "name": "stdout",
     "output_type": "stream",
     "text": [
      "对缺失数据进行替补：\n"
     ]
    },
    {
     "data": {
      "text/plain": [
       "VIOLATION STATUS DATE           1036199\n",
       "VIOLATION DESCRIPTION             10768\n",
       "VIOLATION LOCATION               897282\n",
       "VIOLATION INSPECTOR COMMENTS     175463\n",
       "VIOLATION ORDINANCE               47581\n",
       "INSPECTION STATUS                    16\n",
       "STREET TYPE                       13541\n",
       "SSA                             1356267\n",
       "LATITUDE                           1510\n",
       "LONGITUDE                          1510\n",
       "LOCATION                           1510\n",
       "Community Areas                    2279\n",
       "Zip Codes                          1510\n",
       "Boundaries - ZIP Codes             2279\n",
       "Census Tracts                      1545\n",
       "Wards                              2279\n",
       "Historical Wards 2003-2015         2279\n",
       "dtype: int64"
      ]
     },
     "execution_count": 29,
     "metadata": {},
     "output_type": "execute_result"
    }
   ],
   "source": [
    "print('对缺失数据进行替补：')\n",
    "missing_data = data.isnull().sum()\n",
    "missing_data = missing_data[missing_data != 0]\n",
    "missing_data"
   ]
  },
  {
   "cell_type": "code",
   "execution_count": 30,
   "id": "b86c416f",
   "metadata": {},
   "outputs": [
    {
     "name": "stdout",
     "output_type": "stream",
     "text": [
      "使用直接剔除方法：\n",
      "原始数据行数: 1677788\n",
      "将缺失部分剔除后数据行数: 57603\n"
     ]
    }
   ],
   "source": [
    "print('使用直接剔除方法：')\n",
    "print('原始数据行数:', len(data))\n",
    "drop_data = data.dropna(how='any')\n",
    "print('将缺失部分剔除后数据行数:', len(drop_data))"
   ]
  },
  {
   "cell_type": "code",
   "execution_count": 31,
   "id": "5de229cf",
   "metadata": {},
   "outputs": [
    {
     "name": "stdout",
     "output_type": "stream",
     "text": [
      "通过盒图对比新旧数据:\n"
     ]
    },
    {
     "data": {
      "image/png": "[encoded data removed]",
      "text/plain": [
       "<Figure size 432x288 with 2 Axes>"
      ]
     },
     "metadata": {
      "needs_background": "light"
     },
     "output_type": "display_data"
    },
    {
     "data": {
      "image/png": "[encoded data removed]",
      "text/plain": [
       "<Figure size 432x288 with 2 Axes>"
      ]
     },
     "metadata": {
      "needs_background": "light"
     },
     "output_type": "display_data"
    },
    {
     "data": {
      "image/png": "[encoded data removed]",
      "text/plain": [
       "<Figure size 432x288 with 2 Axes>"
      ]
     },
     "metadata": {
      "needs_background": "light"
     },
     "output_type": "display_data"
    },
    {
     "data": {
      "image/png": "[encoded data removed]",
      "text/plain": [
       "<Figure size 432x288 with 2 Axes>"
      ]
     },
     "metadata": {
      "needs_background": "light"
     },
     "output_type": "display_data"
    },
    {
     "data": {
      "image/png": "[encoded data removed]",
      "text/plain": [
       "<Figure size 432x288 with 2 Axes>"
      ]
     },
     "metadata": {
      "needs_background": "light"
     },
     "output_type": "display_data"
    },
    {
     "data": {
      "image/png": "[encoded data removed]",
      "text/plain": [
       "<Figure size 432x288 with 2 Axes>"
      ]
     },
     "metadata": {
      "needs_background": "light"
     },
     "output_type": "display_data"
    },
    {
     "data": {
      "image/png": "[encoded data removed]",
      "text/plain": [
       "<Figure size 432x288 with 2 Axes>"
      ]
     },
     "metadata": {
      "needs_background": "light"
     },
     "output_type": "display_data"
    },
    {
     "data": {
      "image/png": "[encoded data removed]",
      "text/plain": [
       "<Figure size 432x288 with 2 Axes>"
      ]
     },
     "metadata": {
      "needs_background": "light"
     },
     "output_type": "display_data"
    },
    {
     "data": {
      "image/png": "[encoded data removed]",
      "text/plain": [
       "<Figure size 432x288 with 2 Axes>"
      ]
     },
     "metadata": {
      "needs_background": "light"
     },
     "output_type": "display_data"
    },
    {
     "data": {
      "image/png": "[encoded data removed]",
      "text/plain": [
       "<Figure size 432x288 with 2 Axes>"
      ]
     },
     "metadata": {
      "needs_background": "light"
     },
     "output_type": "display_data"
    },
    {
     "data": {
      "image/png": "[encoded data removed]",
      "text/plain": [
       "<Figure size 432x288 with 2 Axes>"
      ]
     },
     "metadata": {
      "needs_background": "light"
     },
     "output_type": "display_data"
    },
    {
     "data": {
      "image/png": "[encoded data removed]",
      "text/plain": [
       "<Figure size 432x288 with 2 Axes>"
      ]
     },
     "metadata": {
      "needs_background": "light"
     },
     "output_type": "display_data"
    }
   ],
   "source": [
    "print('通过盒图对比新旧数据:')\n",
    "for field in num_fields:\n",
    "    plt.subplot(1, 2, 1)\n",
    "    data.boxplot(field)\n",
    "    plt.xlabel('old')\n",
    "    plt.subplot(1, 2, 2)\n",
    "    drop_data.boxplot(field)\n",
    "    plt.xlabel('new')\n",
    "    plt.tight_layout()\n",
    "    plt.show()"
   ]
  },
  {
   "cell_type": "code",
   "execution_count": 32,
   "id": "e9506eac",
   "metadata": {},
   "outputs": [
    {
     "name": "stdout",
     "output_type": "stream",
     "text": [
      "显示剔除后是否还存在空值：\n"
     ]
    },
    {
     "data": {
      "text/plain": [
       "VIOLATION LAST MODIFIED DATE    0\n",
       "VIOLATION DATE                  0\n",
       "VIOLATION CODE                  0\n",
       "VIOLATION STATUS                0\n",
       "VIOLATION STATUS DATE           0\n",
       "VIOLATION DESCRIPTION           0\n",
       "VIOLATION LOCATION              0\n",
       "VIOLATION INSPECTOR COMMENTS    0\n",
       "VIOLATION ORDINANCE             0\n",
       "INSPECTOR ID                    0\n",
       "INSPECTION NUMBER               0\n",
       "INSPECTION STATUS               0\n",
       "INSPECTION WAIVED               0\n",
       "INSPECTION CATEGORY             0\n",
       "DEPARTMENT BUREAU               0\n",
       "ADDRESS                         0\n",
       "STREET NUMBER                   0\n",
       "STREET DIRECTION                0\n",
       "STREET NAME                     0\n",
       "STREET TYPE                     0\n",
       "PROPERTY GROUP                  0\n",
       "SSA                             0\n",
       "LATITUDE                        0\n",
       "LONGITUDE                       0\n",
       "LOCATION                        0\n",
       "Community Areas                 0\n",
       "Zip Codes                       0\n",
       "Boundaries - ZIP Codes          0\n",
       "Census Tracts                   0\n",
       "Wards                           0\n",
       "Historical Wards 2003-2015      0\n",
       "dtype: int64"
      ]
     },
     "execution_count": 32,
     "metadata": {},
     "output_type": "execute_result"
    }
   ],
   "source": [
    "print('显示剔除后是否还存在空值：')\n",
    "drop_data.isna().sum()"
   ]
  },
  {
   "cell_type": "code",
   "execution_count": 33,
   "id": "1b53cf5f",
   "metadata": {},
   "outputs": [
    {
     "name": "stdout",
     "output_type": "stream",
     "text": [
      "使用最高属性频率值来填充:\n",
      "通过盒图对比新旧数据:\n",
      "INSPECTION NUMBER 属性的最高频率值为: 11247474\n"
     ]
    },
    {
     "data": {
      "image/png": "[encoded data removed]",
      "text/plain": [
       "<Figure size 432x288 with 2 Axes>"
      ]
     },
     "metadata": {
      "needs_background": "light"
     },
     "output_type": "display_data"
    },
    {
     "name": "stdout",
     "output_type": "stream",
     "text": [
      "STREET NUMBER 属性的最高频率值为: 200\n"
     ]
    },
    {
     "data": {
      "image/png": "[encoded data removed]",
      "text/plain": [
       "<Figure size 432x288 with 2 Axes>"
      ]
     },
     "metadata": {
      "needs_background": "light"
     },
     "output_type": "display_data"
    },
    {
     "name": "stdout",
     "output_type": "stream",
     "text": [
      "PROPERTY GROUP 属性的最高频率值为: 6124\n"
     ]
    },
    {
     "data": {
      "image/png": "[encoded data removed]",
      "text/plain": [
       "<Figure size 432x288 with 2 Axes>"
      ]
     },
     "metadata": {
      "needs_background": "light"
     },
     "output_type": "display_data"
    },
    {
     "name": "stdout",
     "output_type": "stream",
     "text": [
      "SSA 属性的最高频率值为: 51.0\n"
     ]
    },
    {
     "data": {
      "image/png": "[encoded data removed]",
      "text/plain": [
       "<Figure size 432x288 with 2 Axes>"
      ]
     },
     "metadata": {
      "needs_background": "light"
     },
     "output_type": "display_data"
    },
    {
     "name": "stdout",
     "output_type": "stream",
     "text": [
      "LATITUDE 属性的最高频率值为: 41.914820426999995\n"
     ]
    },
    {
     "data": {
      "image/png": "[encoded data removed]",
      "text/plain": [
       "<Figure size 432x288 with 2 Axes>"
      ]
     },
     "metadata": {
      "needs_background": "light"
     },
     "output_type": "display_data"
    },
    {
     "name": "stdout",
     "output_type": "stream",
     "text": [
      "LONGITUDE 属性的最高频率值为: -87.77555967\n"
     ]
    },
    {
     "data": {
      "image/png": "[encoded data removed]",
      "text/plain": [
       "<Figure size 432x288 with 2 Axes>"
      ]
     },
     "metadata": {
      "needs_background": "light"
     },
     "output_type": "display_data"
    },
    {
     "name": "stdout",
     "output_type": "stream",
     "text": [
      "Community Areas 属性的最高频率值为: 26.0\n"
     ]
    },
    {
     "data": {
      "image/png": "[encoded data removed]",
      "text/plain": [
       "<Figure size 432x288 with 2 Axes>"
      ]
     },
     "metadata": {
      "needs_background": "light"
     },
     "output_type": "display_data"
    },
    {
     "name": "stdout",
     "output_type": "stream",
     "text": [
      "Zip Codes 属性的最高频率值为: 21569.0\n"
     ]
    },
    {
     "data": {
      "image/png": "[encoded data removed]",
      "text/plain": [
       "<Figure size 432x288 with 2 Axes>"
      ]
     },
     "metadata": {
      "needs_background": "light"
     },
     "output_type": "display_data"
    },
    {
     "name": "stdout",
     "output_type": "stream",
     "text": [
      "Boundaries - ZIP Codes 属性的最高频率值为: 57.0\n"
     ]
    },
    {
     "data": {
      "image/png": "[encoded data removed]",
      "text/plain": [
       "<Figure size 432x288 with 2 Axes>"
      ]
     },
     "metadata": {
      "needs_background": "light"
     },
     "output_type": "display_data"
    },
    {
     "name": "stdout",
     "output_type": "stream",
     "text": [
      "Census Tracts 属性的最高频率值为: 92.0\n"
     ]
    },
    {
     "data": {
      "image/png": "[encoded data removed]",
      "text/plain": [
       "<Figure size 432x288 with 2 Axes>"
      ]
     },
     "metadata": {
      "needs_background": "light"
     },
     "output_type": "display_data"
    },
    {
     "name": "stdout",
     "output_type": "stream",
     "text": [
      "Wards 属性的最高频率值为: 2.0\n"
     ]
    },
    {
     "data": {
      "image/png": "[encoded data removed]",
      "text/plain": [
       "<Figure size 432x288 with 2 Axes>"
      ]
     },
     "metadata": {
      "needs_background": "light"
     },
     "output_type": "display_data"
    },
    {
     "name": "stdout",
     "output_type": "stream",
     "text": [
      "Historical Wards 2003-2015 属性的最高频率值为: 36.0\n"
     ]
    },
    {
     "data": {
      "image/png": "[encoded data removed]",
      "text/plain": [
       "<Figure size 432x288 with 2 Axes>"
      ]
     },
     "metadata": {
      "needs_background": "light"
     },
     "output_type": "display_data"
    }
   ],
   "source": [
    "print('使用最高属性频率值来填充:')\n",
    "print('通过盒图对比新旧数据:')\n",
    "for field in num_fields:\n",
    "    mode = data[field].mode()[0]\n",
    "    new_data = data.fillna({field: mode})\n",
    "    print(field, '属性的最高频率值为:', mode)\n",
    "\n",
    "    plt.subplot(1, 2, 1)\n",
    "    data.boxplot(field)\n",
    "    plt.xlabel('old')\n",
    "    plt.subplot(1, 2, 2)\n",
    "    new_data.boxplot(field)\n",
    "    plt.xlabel('new')\n",
    "    plt.tight_layout()  # 调整整体空白\n",
    "    plt.show()"
   ]
  },
  {
   "cell_type": "code",
   "execution_count": 44,
   "id": "1138a689",
   "metadata": {},
   "outputs": [
    {
     "name": "stdout",
     "output_type": "stream",
     "text": [
      "取各个属性的前5条数据，判断是否被填充\n",
      "(1677788, 31)\n",
      "(1677788, 31)\n",
      "INSPECTION NUMBER\n",
      "填充前\n",
      "Series([], Name: INSPECTION NUMBER, dtype: int64)\n",
      "填充后\n",
      "Series([], Name: INSPECTION NUMBER, dtype: int64)\n",
      "STREET NUMBER\n",
      "填充前\n",
      "Series([], Name: STREET NUMBER, dtype: int64)\n",
      "填充后\n",
      "Series([], Name: STREET NUMBER, dtype: int64)\n",
      "PROPERTY GROUP\n",
      "填充前\n",
      "Series([], Name: PROPERTY GROUP, dtype: int64)\n",
      "填充后\n",
      "Series([], Name: PROPERTY GROUP, dtype: int64)\n",
      "SSA\n",
      "填充前\n",
      "ID\n",
      "6392482   NaN\n",
      "6392480   NaN\n",
      "6392335   NaN\n",
      "6392369   NaN\n",
      "6392416   NaN\n",
      "Name: SSA, dtype: float64\n",
      "填充后\n",
      "ID\n",
      "6392482    51.0\n",
      "6392480    51.0\n",
      "6392335    51.0\n",
      "6392369    51.0\n",
      "6392416    51.0\n",
      "Name: SSA, dtype: float64\n",
      "LATITUDE\n",
      "填充前\n",
      "ID\n",
      "6391532   NaN\n",
      "6391531   NaN\n",
      "6390793   NaN\n",
      "6390792   NaN\n",
      "6354732   NaN\n",
      "Name: LATITUDE, dtype: float64\n",
      "填充后\n",
      "ID\n",
      "6391532    41.91482\n",
      "6391531    41.91482\n",
      "6390793    41.91482\n",
      "6390792    41.91482\n",
      "6354732    41.91482\n",
      "Name: LATITUDE, dtype: float64\n",
      "LONGITUDE\n",
      "填充前\n",
      "ID\n",
      "6391532   NaN\n",
      "6391531   NaN\n",
      "6390793   NaN\n",
      "6390792   NaN\n",
      "6354732   NaN\n",
      "Name: LONGITUDE, dtype: float64\n",
      "填充后\n",
      "ID\n",
      "6391532   -87.77556\n",
      "6391531   -87.77556\n",
      "6390793   -87.77556\n",
      "6390792   -87.77556\n",
      "6354732   -87.77556\n",
      "Name: LONGITUDE, dtype: float64\n",
      "Community Areas\n",
      "填充前\n",
      "ID\n",
      "6391532   NaN\n",
      "6391531   NaN\n",
      "6390793   NaN\n",
      "6390792   NaN\n",
      "6368646   NaN\n",
      "Name: Community Areas, dtype: float64\n",
      "填充后\n",
      "ID\n",
      "6391532    26.0\n",
      "6391531    26.0\n",
      "6390793    26.0\n",
      "6390792    26.0\n",
      "6368646    26.0\n",
      "Name: Community Areas, dtype: float64\n",
      "Zip Codes\n",
      "填充前\n",
      "ID\n",
      "6391532   NaN\n",
      "6391531   NaN\n",
      "6390793   NaN\n",
      "6390792   NaN\n",
      "6354732   NaN\n",
      "Name: Zip Codes, dtype: float64\n",
      "填充后\n",
      "ID\n",
      "6391532    21569.0\n",
      "6391531    21569.0\n",
      "6390793    21569.0\n",
      "6390792    21569.0\n",
      "6354732    21569.0\n",
      "Name: Zip Codes, dtype: float64\n",
      "Boundaries - ZIP Codes\n",
      "填充前\n",
      "ID\n",
      "6391532   NaN\n",
      "6391531   NaN\n",
      "6390793   NaN\n",
      "6390792   NaN\n",
      "6368646   NaN\n",
      "Name: Boundaries - ZIP Codes, dtype: float64\n",
      "填充后\n",
      "ID\n",
      "6391532    57.0\n",
      "6391531    57.0\n",
      "6390793    57.0\n",
      "6390792    57.0\n",
      "6368646    57.0\n",
      "Name: Boundaries - ZIP Codes, dtype: float64\n",
      "Census Tracts\n",
      "填充前\n",
      "ID\n",
      "6391532   NaN\n",
      "6391531   NaN\n",
      "6390793   NaN\n",
      "6390792   NaN\n",
      "6354732   NaN\n",
      "Name: Census Tracts, dtype: float64\n",
      "填充后\n",
      "ID\n",
      "6391532    92.0\n",
      "6391531    92.0\n",
      "6390793    92.0\n",
      "6390792    92.0\n",
      "6354732    92.0\n",
      "Name: Census Tracts, dtype: float64\n",
      "Wards\n",
      "填充前\n",
      "ID\n",
      "6391532   NaN\n",
      "6391531   NaN\n",
      "6390793   NaN\n",
      "6390792   NaN\n",
      "6368646   NaN\n",
      "Name: Wards, dtype: float64\n",
      "填充后\n",
      "ID\n",
      "6391532    2.0\n",
      "6391531    2.0\n",
      "6390793    2.0\n",
      "6390792    2.0\n",
      "6368646    2.0\n",
      "Name: Wards, dtype: float64\n",
      "Historical Wards 2003-2015\n",
      "填充前\n",
      "ID\n",
      "6391532   NaN\n",
      "6391531   NaN\n",
      "6390793   NaN\n",
      "6390792   NaN\n",
      "6368646   NaN\n",
      "Name: Historical Wards 2003-2015, dtype: float64\n",
      "填充后\n",
      "ID\n",
      "6391532    36.0\n",
      "6391531    36.0\n",
      "6390793    36.0\n",
      "6390792    36.0\n",
      "6368646    36.0\n",
      "Name: Historical Wards 2003-2015, dtype: float64\n"
     ]
    }
   ],
   "source": [
    "print('取各个属性的前5条数据，判断是否被填充')\n",
    "print(data.shape)\n",
    "print(new_data.shape)\n",
    "for field in num_fields:\n",
    "    mode = data[field].mode()[0]\n",
    "    new_data = data.fillna({field: mode})\n",
    "    print(field)\n",
    "    print('填充前')\n",
    "    print(data[data[field].isna()][field].head(5))\n",
    "    print('填充后')\n",
    "    print(new_data[data[field].isna()][field].head(5))"
   ]
  },
  {
   "cell_type": "code",
   "execution_count": 70,
   "id": "edfab597",
   "metadata": {},
   "outputs": [
    {
     "name": "stdout",
     "output_type": "stream",
     "text": [
      "通过盒图对比新旧数据:\n",
      "INSPECTION NUMBER\n"
     ]
    },
    {
     "data": {
      "image/png": "[encoded data removed]",
      "text/plain": [
       "<Figure size 432x288 with 2 Axes>"
      ]
     },
     "metadata": {
      "needs_background": "light"
     },
     "output_type": "display_data"
    },
    {
     "name": "stdout",
     "output_type": "stream",
     "text": [
      "STREET NUMBER\n"
     ]
    },
    {
     "data": {
      "image/png": "[encoded data removed]",
      "text/plain": [
       "<Figure size 432x288 with 2 Axes>"
      ]
     },
     "metadata": {
      "needs_background": "light"
     },
     "output_type": "display_data"
    },
    {
     "name": "stdout",
     "output_type": "stream",
     "text": [
      "PROPERTY GROUP\n"
     ]
    },
    {
     "data": {
      "image/png": "[encoded data removed]",
      "text/plain": [
       "<Figure size 432x288 with 2 Axes>"
      ]
     },
     "metadata": {
      "needs_background": "light"
     },
     "output_type": "display_data"
    },
    {
     "name": "stdout",
     "output_type": "stream",
     "text": [
      "SSA\n"
     ]
    },
    {
     "data": {
      "image/png": "[encoded data removed]",
      "text/plain": [
       "<Figure size 432x288 with 2 Axes>"
      ]
     },
     "metadata": {
      "needs_background": "light"
     },
     "output_type": "display_data"
    },
    {
     "name": "stdout",
     "output_type": "stream",
     "text": [
      "LATITUDE\n"
     ]
    },
    {
     "data": {
      "image/png": "[encoded data removed]",
      "text/plain": [
       "<Figure size 432x288 with 2 Axes>"
      ]
     },
     "metadata": {
      "needs_background": "light"
     },
     "output_type": "display_data"
    },
    {
     "name": "stdout",
     "output_type": "stream",
     "text": [
      "LONGITUDE\n"
     ]
    },
    {
     "data": {
      "image/png": "[encoded data removed]",
      "text/plain": [
       "<Figure size 432x288 with 2 Axes>"
      ]
     },
     "metadata": {
      "needs_background": "light"
     },
     "output_type": "display_data"
    },
    {
     "name": "stdout",
     "output_type": "stream",
     "text": [
      "Community Areas\n"
     ]
    },
    {
     "data": {
      "image/png": "[encoded data removed]",
      "text/plain": [
       "<Figure size 432x288 with 2 Axes>"
      ]
     },
     "metadata": {
      "needs_background": "light"
     },
     "output_type": "display_data"
    },
    {
     "name": "stdout",
     "output_type": "stream",
     "text": [
      "Zip Codes\n"
     ]
    },
    {
     "data": {
      "image/png": "[encoded data removed]",
      "text/plain": [
       "<Figure size 432x288 with 2 Axes>"
      ]
     },
     "metadata": {
      "needs_background": "light"
     },
     "output_type": "display_data"
    },
    {
     "name": "stdout",
     "output_type": "stream",
     "text": [
      "Boundaries - ZIP Codes\n"
     ]
    },
    {
     "data": {
      "image/png": "[encoded data removed]",
      "text/plain": [
       "<Figure size 432x288 with 2 Axes>"
      ]
     },
     "metadata": {
      "needs_background": "light"
     },
     "output_type": "display_data"
    },
    {
     "name": "stdout",
     "output_type": "stream",
     "text": [
      "Census Tracts\n"
     ]
    },
    {
     "data": {
      "image/png": "[encoded data removed]",
      "text/plain": [
       "<Figure size 432x288 with 2 Axes>"
      ]
     },
     "metadata": {
      "needs_background": "light"
     },
     "output_type": "display_data"
    },
    {
     "name": "stdout",
     "output_type": "stream",
     "text": [
      "Wards\n"
     ]
    },
    {
     "data": {
      "image/png": "[encoded data removed]",
      "text/plain": [
       "<Figure size 432x288 with 2 Axes>"
      ]
     },
     "metadata": {
      "needs_background": "light"
     },
     "output_type": "display_data"
    },
    {
     "name": "stdout",
     "output_type": "stream",
     "text": [
      "Historical Wards 2003-2015\n"
     ]
    },
    {
     "data": {
      "image/png": "[encoded data removed]",
      "text/plain": [
       "<Figure size 432x288 with 2 Axes>"
      ]
     },
     "metadata": {
      "needs_background": "light"
     },
     "output_type": "display_data"
    }
   ],
   "source": [
    "print('通过盒图对比新旧数据:')\n",
    "for field in num_fields:\n",
    "    mode = data[field].mode()[0]\n",
    "    new_data = data.fillna({field: mode})\n",
    "    print(field)\n",
    "    plt.subplot(1, 2, 1)\n",
    "    data.boxplot(field)\n",
    "    plt.xlabel('old')\n",
    "    plt.subplot(1, 2, 2)\n",
    "    new_data.boxplot(field)\n",
    "    plt.xlabel('new')\n",
    "    plt.tight_layout() \n",
    "    plt.show()"
   ]
  },
  {
   "cell_type": "code",
   "execution_count": 46,
   "id": "72488d5a",
   "metadata": {},
   "outputs": [
    {
     "name": "stdout",
     "output_type": "stream",
     "text": [
      "通过属性的相关关系来填补缺失值\n"
     ]
    },
    {
     "data": {
      "text/html": [
       "<div>\n",
       "<style scoped>\n",
       "    .dataframe tbody tr th:only-of-type {\n",
       "        vertical-align: middle;\n",
       "    }\n",
       "\n",
       "    .dataframe tbody tr th {\n",
       "        vertical-align: top;\n",
       "    }\n",
       "\n",
       "    .dataframe thead th {\n",
       "        text-align: right;\n",
       "    }\n",
       "</style>\n",
       "<table border=\"1\" class=\"dataframe\">\n",
       "  <thead>\n",
       "    <tr style=\"text-align: right;\">\n",
       "      <th></th>\n",
       "      <th>INSPECTION NUMBER</th>\n",
       "      <th>STREET NUMBER</th>\n",
       "      <th>PROPERTY GROUP</th>\n",
       "      <th>SSA</th>\n",
       "      <th>LATITUDE</th>\n",
       "      <th>LONGITUDE</th>\n",
       "      <th>Community Areas</th>\n",
       "      <th>Zip Codes</th>\n",
       "      <th>Boundaries - ZIP Codes</th>\n",
       "      <th>Census Tracts</th>\n",
       "      <th>Wards</th>\n",
       "      <th>Historical Wards 2003-2015</th>\n",
       "    </tr>\n",
       "  </thead>\n",
       "  <tbody>\n",
       "    <tr>\n",
       "      <th>INSPECTION NUMBER</th>\n",
       "      <td>1.000000</td>\n",
       "      <td>0.025416</td>\n",
       "      <td>0.143938</td>\n",
       "      <td>0.019656</td>\n",
       "      <td>-0.052546</td>\n",
       "      <td>0.003413</td>\n",
       "      <td>0.035095</td>\n",
       "      <td>-0.002716</td>\n",
       "      <td>0.026129</td>\n",
       "      <td>0.009399</td>\n",
       "      <td>0.013828</td>\n",
       "      <td>0.006402</td>\n",
       "    </tr>\n",
       "    <tr>\n",
       "      <th>STREET NUMBER</th>\n",
       "      <td>0.025416</td>\n",
       "      <td>1.000000</td>\n",
       "      <td>0.371202</td>\n",
       "      <td>0.101265</td>\n",
       "      <td>-0.419617</td>\n",
       "      <td>0.246223</td>\n",
       "      <td>0.258599</td>\n",
       "      <td>0.162625</td>\n",
       "      <td>0.036967</td>\n",
       "      <td>-0.014767</td>\n",
       "      <td>-0.001594</td>\n",
       "      <td>0.093205</td>\n",
       "    </tr>\n",
       "    <tr>\n",
       "      <th>PROPERTY GROUP</th>\n",
       "      <td>0.143938</td>\n",
       "      <td>0.371202</td>\n",
       "      <td>1.000000</td>\n",
       "      <td>0.007682</td>\n",
       "      <td>-0.564361</td>\n",
       "      <td>0.277112</td>\n",
       "      <td>0.372446</td>\n",
       "      <td>0.141783</td>\n",
       "      <td>0.175748</td>\n",
       "      <td>0.039991</td>\n",
       "      <td>-0.073932</td>\n",
       "      <td>0.113557</td>\n",
       "    </tr>\n",
       "    <tr>\n",
       "      <th>SSA</th>\n",
       "      <td>0.019656</td>\n",
       "      <td>0.101265</td>\n",
       "      <td>0.007682</td>\n",
       "      <td>1.000000</td>\n",
       "      <td>-0.149102</td>\n",
       "      <td>0.257743</td>\n",
       "      <td>-0.333498</td>\n",
       "      <td>0.134819</td>\n",
       "      <td>-0.037961</td>\n",
       "      <td>-0.107385</td>\n",
       "      <td>0.113380</td>\n",
       "      <td>-0.244701</td>\n",
       "    </tr>\n",
       "    <tr>\n",
       "      <th>LATITUDE</th>\n",
       "      <td>-0.052546</td>\n",
       "      <td>-0.419617</td>\n",
       "      <td>-0.564361</td>\n",
       "      <td>-0.149102</td>\n",
       "      <td>1.000000</td>\n",
       "      <td>-0.575267</td>\n",
       "      <td>-0.504266</td>\n",
       "      <td>-0.203810</td>\n",
       "      <td>-0.261752</td>\n",
       "      <td>-0.070431</td>\n",
       "      <td>0.008941</td>\n",
       "      <td>-0.155921</td>\n",
       "    </tr>\n",
       "    <tr>\n",
       "      <th>LONGITUDE</th>\n",
       "      <td>0.003413</td>\n",
       "      <td>0.246223</td>\n",
       "      <td>0.277112</td>\n",
       "      <td>0.257743</td>\n",
       "      <td>-0.575267</td>\n",
       "      <td>1.000000</td>\n",
       "      <td>0.239315</td>\n",
       "      <td>0.067883</td>\n",
       "      <td>0.120026</td>\n",
       "      <td>-0.048546</td>\n",
       "      <td>0.120544</td>\n",
       "      <td>0.164372</td>\n",
       "    </tr>\n",
       "    <tr>\n",
       "      <th>Community Areas</th>\n",
       "      <td>0.035095</td>\n",
       "      <td>0.258599</td>\n",
       "      <td>0.372446</td>\n",
       "      <td>-0.333498</td>\n",
       "      <td>-0.504266</td>\n",
       "      <td>0.239315</td>\n",
       "      <td>1.000000</td>\n",
       "      <td>-0.000149</td>\n",
       "      <td>0.150181</td>\n",
       "      <td>0.169519</td>\n",
       "      <td>-0.060014</td>\n",
       "      <td>0.182617</td>\n",
       "    </tr>\n",
       "    <tr>\n",
       "      <th>Zip Codes</th>\n",
       "      <td>-0.002716</td>\n",
       "      <td>0.162625</td>\n",
       "      <td>0.141783</td>\n",
       "      <td>0.134819</td>\n",
       "      <td>-0.203810</td>\n",
       "      <td>0.067883</td>\n",
       "      <td>-0.000149</td>\n",
       "      <td>1.000000</td>\n",
       "      <td>0.090238</td>\n",
       "      <td>-0.028170</td>\n",
       "      <td>-0.087983</td>\n",
       "      <td>0.032950</td>\n",
       "    </tr>\n",
       "    <tr>\n",
       "      <th>Boundaries - ZIP Codes</th>\n",
       "      <td>0.026129</td>\n",
       "      <td>0.036967</td>\n",
       "      <td>0.175748</td>\n",
       "      <td>-0.037961</td>\n",
       "      <td>-0.261752</td>\n",
       "      <td>0.120026</td>\n",
       "      <td>0.150181</td>\n",
       "      <td>0.090238</td>\n",
       "      <td>1.000000</td>\n",
       "      <td>0.038330</td>\n",
       "      <td>-0.202016</td>\n",
       "      <td>0.145459</td>\n",
       "    </tr>\n",
       "    <tr>\n",
       "      <th>Census Tracts</th>\n",
       "      <td>0.009399</td>\n",
       "      <td>-0.014767</td>\n",
       "      <td>0.039991</td>\n",
       "      <td>-0.107385</td>\n",
       "      <td>-0.070431</td>\n",
       "      <td>-0.048546</td>\n",
       "      <td>0.169519</td>\n",
       "      <td>-0.028170</td>\n",
       "      <td>0.038330</td>\n",
       "      <td>1.000000</td>\n",
       "      <td>0.017829</td>\n",
       "      <td>0.015609</td>\n",
       "    </tr>\n",
       "    <tr>\n",
       "      <th>Wards</th>\n",
       "      <td>0.013828</td>\n",
       "      <td>-0.001594</td>\n",
       "      <td>-0.073932</td>\n",
       "      <td>0.113380</td>\n",
       "      <td>0.008941</td>\n",
       "      <td>0.120544</td>\n",
       "      <td>-0.060014</td>\n",
       "      <td>-0.087983</td>\n",
       "      <td>-0.202016</td>\n",
       "      <td>0.017829</td>\n",
       "      <td>1.000000</td>\n",
       "      <td>-0.087439</td>\n",
       "    </tr>\n",
       "    <tr>\n",
       "      <th>Historical Wards 2003-2015</th>\n",
       "      <td>0.006402</td>\n",
       "      <td>0.093205</td>\n",
       "      <td>0.113557</td>\n",
       "      <td>-0.244701</td>\n",
       "      <td>-0.155921</td>\n",
       "      <td>0.164372</td>\n",
       "      <td>0.182617</td>\n",
       "      <td>0.032950</td>\n",
       "      <td>0.145459</td>\n",
       "      <td>0.015609</td>\n",
       "      <td>-0.087439</td>\n",
       "      <td>1.000000</td>\n",
       "    </tr>\n",
       "  </tbody>\n",
       "</table>\n",
       "</div>"
      ],
      "text/plain": [
       "                            INSPECTION NUMBER  STREET NUMBER  PROPERTY GROUP  \\\n",
       "INSPECTION NUMBER                    1.000000       0.025416        0.143938   \n",
       "STREET NUMBER                        0.025416       1.000000        0.371202   \n",
       "PROPERTY GROUP                       0.143938       0.371202        1.000000   \n",
       "SSA                                  0.019656       0.101265        0.007682   \n",
       "LATITUDE                            -0.052546      -0.419617       -0.564361   \n",
       "LONGITUDE                            0.003413       0.246223        0.277112   \n",
       "Community Areas                      0.035095       0.258599        0.372446   \n",
       "Zip Codes                           -0.002716       0.162625        0.141783   \n",
       "Boundaries - ZIP Codes               0.026129       0.036967        0.175748   \n",
       "Census Tracts                        0.009399      -0.014767        0.039991   \n",
       "Wards                                0.013828      -0.001594       -0.073932   \n",
       "Historical Wards 2003-2015           0.006402       0.093205        0.113557   \n",
       "\n",
       "                                 SSA  LATITUDE  LONGITUDE  Community Areas  \\\n",
       "INSPECTION NUMBER           0.019656 -0.052546   0.003413         0.035095   \n",
       "STREET NUMBER               0.101265 -0.419617   0.246223         0.258599   \n",
       "PROPERTY GROUP              0.007682 -0.564361   0.277112         0.372446   \n",
       "SSA                         1.000000 -0.149102   0.257743        -0.333498   \n",
       "LATITUDE                   -0.149102  1.000000  -0.575267        -0.504266   \n",
       "LONGITUDE                   0.257743 -0.575267   1.000000         0.239315   \n",
       "Community Areas            -0.333498 -0.504266   0.239315         1.000000   \n",
       "Zip Codes                   0.134819 -0.203810   0.067883        -0.000149   \n",
       "Boundaries - ZIP Codes     -0.037961 -0.261752   0.120026         0.150181   \n",
       "Census Tracts              -0.107385 -0.070431  -0.048546         0.169519   \n",
       "Wards                       0.113380  0.008941   0.120544        -0.060014   \n",
       "Historical Wards 2003-2015 -0.244701 -0.155921   0.164372         0.182617   \n",
       "\n",
       "                            Zip Codes  Boundaries - ZIP Codes  Census Tracts  \\\n",
       "INSPECTION NUMBER           -0.002716                0.026129       0.009399   \n",
       "STREET NUMBER                0.162625                0.036967      -0.014767   \n",
       "PROPERTY GROUP               0.141783                0.175748       0.039991   \n",
       "SSA                          0.134819               -0.037961      -0.107385   \n",
       "LATITUDE                    -0.203810               -0.261752      -0.070431   \n",
       "LONGITUDE                    0.067883                0.120026      -0.048546   \n",
       "Community Areas             -0.000149                0.150181       0.169519   \n",
       "Zip Codes                    1.000000                0.090238      -0.028170   \n",
       "Boundaries - ZIP Codes       0.090238                1.000000       0.038330   \n",
       "Census Tracts               -0.028170                0.038330       1.000000   \n",
       "Wards                       -0.087983               -0.202016       0.017829   \n",
       "Historical Wards 2003-2015   0.032950                0.145459       0.015609   \n",
       "\n",
       "                               Wards  Historical Wards 2003-2015  \n",
       "INSPECTION NUMBER           0.013828                    0.006402  \n",
       "STREET NUMBER              -0.001594                    0.093205  \n",
       "PROPERTY GROUP             -0.073932                    0.113557  \n",
       "SSA                         0.113380                   -0.244701  \n",
       "LATITUDE                    0.008941                   -0.155921  \n",
       "LONGITUDE                   0.120544                    0.164372  \n",
       "Community Areas            -0.060014                    0.182617  \n",
       "Zip Codes                  -0.087983                    0.032950  \n",
       "Boundaries - ZIP Codes     -0.202016                    0.145459  \n",
       "Census Tracts               0.017829                    0.015609  \n",
       "Wards                       1.000000                   -0.087439  \n",
       "Historical Wards 2003-2015 -0.087439                    1.000000  "
      ]
     },
     "execution_count": 46,
     "metadata": {},
     "output_type": "execute_result"
    }
   ],
   "source": [
    "print('通过属性的相关关系来填补缺失值')\n",
    "data.corr()"
   ]
  },
  {
   "cell_type": "code",
   "execution_count": 58,
   "id": "19d980d1",
   "metadata": {},
   "outputs": [
    {
     "data": {
      "image/png": "[encoded data removed]",
      "text/plain": [
       "<Figure size 432x288 with 1 Axes>"
      ]
     },
     "metadata": {
      "needs_background": "light"
     },
     "output_type": "display_data"
    }
   ],
   "source": [
    "drop_data = data.dropna(subset=['LONGITUDE'])\n",
    "x = drop_data['STREET NUMBER']\n",
    "y = drop_data['LONGITUDE']\n",
    "x = np.array(x).reshape(-1, 1)\n",
    "model = LinearRegression()\n",
    "model.fit(x, y)\n",
    "drop_data.plot(kind=\"scatter\", x=\"STREET NUMBER\", y=\"LONGITUDE\", alpha=0.05)\n",
    "plt.plot(x, model.predict(x), 'r-')\n",
    "# plt.ylim(0,300)\n",
    "plt.show()"
   ]
  },
  {
   "cell_type": "code",
   "execution_count": 62,
   "id": "92acee42",
   "metadata": {},
   "outputs": [
    {
     "name": "stdout",
     "output_type": "stream",
     "text": [
      "利用线性回归模型预测来填充LONGITUDE属性缺失的值\n"
     ]
    }
   ],
   "source": [
    "print('利用线性回归模型预测来填充LONGITUDE属性缺失的值')\n",
    "new_data = data.copy()\n",
    "for index, row in new_data[data['LONGITUDE'].isna()].head(5).iterrows():\n",
    "    new_data['LONGITUDE'][index] = model.predict(np.array(row['STREET NUMBER']).reshape(-1, 1))"
   ]
  },
  {
   "cell_type": "code",
   "execution_count": 56,
   "id": "cdf25551",
   "metadata": {},
   "outputs": [
    {
     "data": {
      "text/html": [
       "<div>\n",
       "<style scoped>\n",
       "    .dataframe tbody tr th:only-of-type {\n",
       "        vertical-align: middle;\n",
       "    }\n",
       "\n",
       "    .dataframe tbody tr th {\n",
       "        vertical-align: top;\n",
       "    }\n",
       "\n",
       "    .dataframe thead th {\n",
       "        text-align: right;\n",
       "    }\n",
       "</style>\n",
       "<table border=\"1\" class=\"dataframe\">\n",
       "  <thead>\n",
       "    <tr style=\"text-align: right;\">\n",
       "      <th></th>\n",
       "      <th>VIOLATION LAST MODIFIED DATE</th>\n",
       "      <th>VIOLATION DATE</th>\n",
       "      <th>VIOLATION CODE</th>\n",
       "      <th>VIOLATION STATUS</th>\n",
       "      <th>VIOLATION STATUS DATE</th>\n",
       "      <th>VIOLATION DESCRIPTION</th>\n",
       "      <th>VIOLATION LOCATION</th>\n",
       "      <th>VIOLATION INSPECTOR COMMENTS</th>\n",
       "      <th>VIOLATION ORDINANCE</th>\n",
       "      <th>INSPECTOR ID</th>\n",
       "      <th>...</th>\n",
       "      <th>SSA</th>\n",
       "      <th>LATITUDE</th>\n",
       "      <th>LONGITUDE</th>\n",
       "      <th>LOCATION</th>\n",
       "      <th>Community Areas</th>\n",
       "      <th>Zip Codes</th>\n",
       "      <th>Boundaries - ZIP Codes</th>\n",
       "      <th>Census Tracts</th>\n",
       "      <th>Wards</th>\n",
       "      <th>Historical Wards 2003-2015</th>\n",
       "    </tr>\n",
       "    <tr>\n",
       "      <th>ID</th>\n",
       "      <th></th>\n",
       "      <th></th>\n",
       "      <th></th>\n",
       "      <th></th>\n",
       "      <th></th>\n",
       "      <th></th>\n",
       "      <th></th>\n",
       "      <th></th>\n",
       "      <th></th>\n",
       "      <th></th>\n",
       "      <th></th>\n",
       "      <th></th>\n",
       "      <th></th>\n",
       "      <th></th>\n",
       "      <th></th>\n",
       "      <th></th>\n",
       "      <th></th>\n",
       "      <th></th>\n",
       "      <th></th>\n",
       "      <th></th>\n",
       "      <th></th>\n",
       "    </tr>\n",
       "  </thead>\n",
       "  <tbody>\n",
       "    <tr>\n",
       "      <th>6391532</th>\n",
       "      <td>2019-12-03T12:06:47.000</td>\n",
       "      <td>2019-11-29T00:00:00.000</td>\n",
       "      <td>CN021053</td>\n",
       "      <td>OPEN</td>\n",
       "      <td>NaN</td>\n",
       "      <td>DOOR W/PANIC HRDWR-200+ ASMBLY</td>\n",
       "      <td>NaN</td>\n",
       "      <td>INSTALL PANIC HARDWARE ON DOUBLE GLASS DOORS F...</td>\n",
       "      <td>Failed to provide exit door with approved latc...</td>\n",
       "      <td>BL00904</td>\n",
       "      <td>...</td>\n",
       "      <td>NaN</td>\n",
       "      <td>NaN</td>\n",
       "      <td>NaN</td>\n",
       "      <td>NaN</td>\n",
       "      <td>NaN</td>\n",
       "      <td>NaN</td>\n",
       "      <td>NaN</td>\n",
       "      <td>NaN</td>\n",
       "      <td>NaN</td>\n",
       "      <td>NaN</td>\n",
       "    </tr>\n",
       "    <tr>\n",
       "      <th>6391531</th>\n",
       "      <td>2019-12-03T12:02:30.000</td>\n",
       "      <td>2019-11-29T00:00:00.000</td>\n",
       "      <td>CN039013</td>\n",
       "      <td>OPEN</td>\n",
       "      <td>NaN</td>\n",
       "      <td>POST APPROVED OCCUPANCY CARD</td>\n",
       "      <td>NaN</td>\n",
       "      <td>OCCUPANCY CAPACITY CARD REQUIRED AT 6TH FLOOR ...</td>\n",
       "      <td>Failed to post in a conspicuous location, the ...</td>\n",
       "      <td>BL00904</td>\n",
       "      <td>...</td>\n",
       "      <td>NaN</td>\n",
       "      <td>NaN</td>\n",
       "      <td>NaN</td>\n",
       "      <td>NaN</td>\n",
       "      <td>NaN</td>\n",
       "      <td>NaN</td>\n",
       "      <td>NaN</td>\n",
       "      <td>NaN</td>\n",
       "      <td>NaN</td>\n",
       "      <td>NaN</td>\n",
       "    </tr>\n",
       "    <tr>\n",
       "      <th>6390793</th>\n",
       "      <td>2019-11-27T12:53:04.000</td>\n",
       "      <td>2019-11-27T00:00:00.000</td>\n",
       "      <td>CN190019</td>\n",
       "      <td>OPEN</td>\n",
       "      <td>NaN</td>\n",
       "      <td>ARRANGE PREMISE INSPECTION</td>\n",
       "      <td>OTHER   :    :OTHER</td>\n",
       "      <td>INTERIOR OF BUILDING - NO RESPONSE. UNABLE TO ...</td>\n",
       "      <td>Arrange for inspection of premises. (13-12-100)</td>\n",
       "      <td>371443</td>\n",
       "      <td>...</td>\n",
       "      <td>NaN</td>\n",
       "      <td>NaN</td>\n",
       "      <td>NaN</td>\n",
       "      <td>NaN</td>\n",
       "      <td>NaN</td>\n",
       "      <td>NaN</td>\n",
       "      <td>NaN</td>\n",
       "      <td>NaN</td>\n",
       "      <td>NaN</td>\n",
       "      <td>NaN</td>\n",
       "    </tr>\n",
       "    <tr>\n",
       "      <th>6390792</th>\n",
       "      <td>2019-11-27T12:53:04.000</td>\n",
       "      <td>2019-11-27T00:00:00.000</td>\n",
       "      <td>CN061014</td>\n",
       "      <td>OPEN</td>\n",
       "      <td>NaN</td>\n",
       "      <td>REPAIR EXTERIOR WALL</td>\n",
       "      <td>OTHER   :    :OTHER</td>\n",
       "      <td>FRONT ELEVATION/ EXTERIOR WALL - BOARDED UP WI...</td>\n",
       "      <td>Failed to maintain the exterior walls of a bui...</td>\n",
       "      <td>371443</td>\n",
       "      <td>...</td>\n",
       "      <td>NaN</td>\n",
       "      <td>NaN</td>\n",
       "      <td>NaN</td>\n",
       "      <td>NaN</td>\n",
       "      <td>NaN</td>\n",
       "      <td>NaN</td>\n",
       "      <td>NaN</td>\n",
       "      <td>NaN</td>\n",
       "      <td>NaN</td>\n",
       "      <td>NaN</td>\n",
       "    </tr>\n",
       "    <tr>\n",
       "      <th>6354732</th>\n",
       "      <td>2019-09-30T13:40:57.000</td>\n",
       "      <td>2019-09-30T00:00:00.000</td>\n",
       "      <td>PL151137</td>\n",
       "      <td>OPEN</td>\n",
       "      <td>NaN</td>\n",
       "      <td>OPEN</td>\n",
       "      <td>NaN</td>\n",
       "      <td>NaN</td>\n",
       "      <td>NaN</td>\n",
       "      <td>BL00586</td>\n",
       "      <td>...</td>\n",
       "      <td>NaN</td>\n",
       "      <td>NaN</td>\n",
       "      <td>NaN</td>\n",
       "      <td>NaN</td>\n",
       "      <td>NaN</td>\n",
       "      <td>NaN</td>\n",
       "      <td>NaN</td>\n",
       "      <td>NaN</td>\n",
       "      <td>NaN</td>\n",
       "      <td>NaN</td>\n",
       "    </tr>\n",
       "  </tbody>\n",
       "</table>\n",
       "<p>5 rows × 31 columns</p>\n",
       "</div>"
      ],
      "text/plain": [
       "        VIOLATION LAST MODIFIED DATE           VIOLATION DATE VIOLATION CODE  \\\n",
       "ID                                                                             \n",
       "6391532      2019-12-03T12:06:47.000  2019-11-29T00:00:00.000       CN021053   \n",
       "6391531      2019-12-03T12:02:30.000  2019-11-29T00:00:00.000       CN039013   \n",
       "6390793      2019-11-27T12:53:04.000  2019-11-27T00:00:00.000       CN190019   \n",
       "6390792      2019-11-27T12:53:04.000  2019-11-27T00:00:00.000       CN061014   \n",
       "6354732      2019-09-30T13:40:57.000  2019-09-30T00:00:00.000       PL151137   \n",
       "\n",
       "        VIOLATION STATUS VIOLATION STATUS DATE  \\\n",
       "ID                                               \n",
       "6391532             OPEN                   NaN   \n",
       "6391531             OPEN                   NaN   \n",
       "6390793             OPEN                   NaN   \n",
       "6390792             OPEN                   NaN   \n",
       "6354732             OPEN                   NaN   \n",
       "\n",
       "                  VIOLATION DESCRIPTION   VIOLATION LOCATION  \\\n",
       "ID                                                             \n",
       "6391532  DOOR W/PANIC HRDWR-200+ ASMBLY                  NaN   \n",
       "6391531    POST APPROVED OCCUPANCY CARD                  NaN   \n",
       "6390793      ARRANGE PREMISE INSPECTION  OTHER   :    :OTHER   \n",
       "6390792            REPAIR EXTERIOR WALL  OTHER   :    :OTHER   \n",
       "6354732                            OPEN                  NaN   \n",
       "\n",
       "                              VIOLATION INSPECTOR COMMENTS  \\\n",
       "ID                                                           \n",
       "6391532  INSTALL PANIC HARDWARE ON DOUBLE GLASS DOORS F...   \n",
       "6391531  OCCUPANCY CAPACITY CARD REQUIRED AT 6TH FLOOR ...   \n",
       "6390793  INTERIOR OF BUILDING - NO RESPONSE. UNABLE TO ...   \n",
       "6390792  FRONT ELEVATION/ EXTERIOR WALL - BOARDED UP WI...   \n",
       "6354732                                                NaN   \n",
       "\n",
       "                                       VIOLATION ORDINANCE INSPECTOR ID  \\\n",
       "ID                                                                        \n",
       "6391532  Failed to provide exit door with approved latc...      BL00904   \n",
       "6391531  Failed to post in a conspicuous location, the ...      BL00904   \n",
       "6390793    Arrange for inspection of premises. (13-12-100)       371443   \n",
       "6390792  Failed to maintain the exterior walls of a bui...       371443   \n",
       "6354732                                                NaN      BL00586   \n",
       "\n",
       "                   ...              SSA LATITUDE LONGITUDE LOCATION  \\\n",
       "ID                 ...                                                \n",
       "6391532            ...              NaN      NaN       NaN      NaN   \n",
       "6391531            ...              NaN      NaN       NaN      NaN   \n",
       "6390793            ...              NaN      NaN       NaN      NaN   \n",
       "6390792            ...              NaN      NaN       NaN      NaN   \n",
       "6354732            ...              NaN      NaN       NaN      NaN   \n",
       "\n",
       "        Community Areas Zip Codes  Boundaries - ZIP Codes Census Tracts Wards  \\\n",
       "ID                                                                              \n",
       "6391532             NaN       NaN                     NaN           NaN   NaN   \n",
       "6391531             NaN       NaN                     NaN           NaN   NaN   \n",
       "6390793             NaN       NaN                     NaN           NaN   NaN   \n",
       "6390792             NaN       NaN                     NaN           NaN   NaN   \n",
       "6354732             NaN       NaN                     NaN           NaN   NaN   \n",
       "\n",
       "        Historical Wards 2003-2015  \n",
       "ID                                  \n",
       "6391532                        NaN  \n",
       "6391531                        NaN  \n",
       "6390793                        NaN  \n",
       "6390792                        NaN  \n",
       "6354732                        NaN  \n",
       "\n",
       "[5 rows x 31 columns]"
      ]
     },
     "execution_count": 56,
     "metadata": {},
     "output_type": "execute_result"
    }
   ],
   "source": [
    "data[data['LONGITUDE'].isna()].head(5)"
   ]
  },
  {
   "cell_type": "code",
   "execution_count": 63,
   "id": "0b7a4972",
   "metadata": {},
   "outputs": [
    {
     "data": {
      "text/html": [
       "<div>\n",
       "<style scoped>\n",
       "    .dataframe tbody tr th:only-of-type {\n",
       "        vertical-align: middle;\n",
       "    }\n",
       "\n",
       "    .dataframe tbody tr th {\n",
       "        vertical-align: top;\n",
       "    }\n",
       "\n",
       "    .dataframe thead th {\n",
       "        text-align: right;\n",
       "    }\n",
       "</style>\n",
       "<table border=\"1\" class=\"dataframe\">\n",
       "  <thead>\n",
       "    <tr style=\"text-align: right;\">\n",
       "      <th></th>\n",
       "      <th>VIOLATION LAST MODIFIED DATE</th>\n",
       "      <th>VIOLATION DATE</th>\n",
       "      <th>VIOLATION CODE</th>\n",
       "      <th>VIOLATION STATUS</th>\n",
       "      <th>VIOLATION STATUS DATE</th>\n",
       "      <th>VIOLATION DESCRIPTION</th>\n",
       "      <th>VIOLATION LOCATION</th>\n",
       "      <th>VIOLATION INSPECTOR COMMENTS</th>\n",
       "      <th>VIOLATION ORDINANCE</th>\n",
       "      <th>INSPECTOR ID</th>\n",
       "      <th>...</th>\n",
       "      <th>SSA</th>\n",
       "      <th>LATITUDE</th>\n",
       "      <th>LONGITUDE</th>\n",
       "      <th>LOCATION</th>\n",
       "      <th>Community Areas</th>\n",
       "      <th>Zip Codes</th>\n",
       "      <th>Boundaries - ZIP Codes</th>\n",
       "      <th>Census Tracts</th>\n",
       "      <th>Wards</th>\n",
       "      <th>Historical Wards 2003-2015</th>\n",
       "    </tr>\n",
       "    <tr>\n",
       "      <th>ID</th>\n",
       "      <th></th>\n",
       "      <th></th>\n",
       "      <th></th>\n",
       "      <th></th>\n",
       "      <th></th>\n",
       "      <th></th>\n",
       "      <th></th>\n",
       "      <th></th>\n",
       "      <th></th>\n",
       "      <th></th>\n",
       "      <th></th>\n",
       "      <th></th>\n",
       "      <th></th>\n",
       "      <th></th>\n",
       "      <th></th>\n",
       "      <th></th>\n",
       "      <th></th>\n",
       "      <th></th>\n",
       "      <th></th>\n",
       "      <th></th>\n",
       "      <th></th>\n",
       "    </tr>\n",
       "  </thead>\n",
       "  <tbody>\n",
       "    <tr>\n",
       "      <th>6391532</th>\n",
       "      <td>2019-12-03T12:06:47.000</td>\n",
       "      <td>2019-11-29T00:00:00.000</td>\n",
       "      <td>CN021053</td>\n",
       "      <td>OPEN</td>\n",
       "      <td>NaN</td>\n",
       "      <td>DOOR W/PANIC HRDWR-200+ ASMBLY</td>\n",
       "      <td>NaN</td>\n",
       "      <td>INSTALL PANIC HARDWARE ON DOUBLE GLASS DOORS F...</td>\n",
       "      <td>Failed to provide exit door with approved latc...</td>\n",
       "      <td>BL00904</td>\n",
       "      <td>...</td>\n",
       "      <td>NaN</td>\n",
       "      <td>NaN</td>\n",
       "      <td>-87.692264</td>\n",
       "      <td>NaN</td>\n",
       "      <td>NaN</td>\n",
       "      <td>NaN</td>\n",
       "      <td>NaN</td>\n",
       "      <td>NaN</td>\n",
       "      <td>NaN</td>\n",
       "      <td>NaN</td>\n",
       "    </tr>\n",
       "    <tr>\n",
       "      <th>6391531</th>\n",
       "      <td>2019-12-03T12:02:30.000</td>\n",
       "      <td>2019-11-29T00:00:00.000</td>\n",
       "      <td>CN039013</td>\n",
       "      <td>OPEN</td>\n",
       "      <td>NaN</td>\n",
       "      <td>POST APPROVED OCCUPANCY CARD</td>\n",
       "      <td>NaN</td>\n",
       "      <td>OCCUPANCY CAPACITY CARD REQUIRED AT 6TH FLOOR ...</td>\n",
       "      <td>Failed to post in a conspicuous location, the ...</td>\n",
       "      <td>BL00904</td>\n",
       "      <td>...</td>\n",
       "      <td>NaN</td>\n",
       "      <td>NaN</td>\n",
       "      <td>-87.692264</td>\n",
       "      <td>NaN</td>\n",
       "      <td>NaN</td>\n",
       "      <td>NaN</td>\n",
       "      <td>NaN</td>\n",
       "      <td>NaN</td>\n",
       "      <td>NaN</td>\n",
       "      <td>NaN</td>\n",
       "    </tr>\n",
       "    <tr>\n",
       "      <th>6390793</th>\n",
       "      <td>2019-11-27T12:53:04.000</td>\n",
       "      <td>2019-11-27T00:00:00.000</td>\n",
       "      <td>CN190019</td>\n",
       "      <td>OPEN</td>\n",
       "      <td>NaN</td>\n",
       "      <td>ARRANGE PREMISE INSPECTION</td>\n",
       "      <td>OTHER   :    :OTHER</td>\n",
       "      <td>INTERIOR OF BUILDING - NO RESPONSE. UNABLE TO ...</td>\n",
       "      <td>Arrange for inspection of premises. (13-12-100)</td>\n",
       "      <td>371443</td>\n",
       "      <td>...</td>\n",
       "      <td>NaN</td>\n",
       "      <td>NaN</td>\n",
       "      <td>-87.661323</td>\n",
       "      <td>NaN</td>\n",
       "      <td>NaN</td>\n",
       "      <td>NaN</td>\n",
       "      <td>NaN</td>\n",
       "      <td>NaN</td>\n",
       "      <td>NaN</td>\n",
       "      <td>NaN</td>\n",
       "    </tr>\n",
       "    <tr>\n",
       "      <th>6390792</th>\n",
       "      <td>2019-11-27T12:53:04.000</td>\n",
       "      <td>2019-11-27T00:00:00.000</td>\n",
       "      <td>CN061014</td>\n",
       "      <td>OPEN</td>\n",
       "      <td>NaN</td>\n",
       "      <td>REPAIR EXTERIOR WALL</td>\n",
       "      <td>OTHER   :    :OTHER</td>\n",
       "      <td>FRONT ELEVATION/ EXTERIOR WALL - BOARDED UP WI...</td>\n",
       "      <td>Failed to maintain the exterior walls of a bui...</td>\n",
       "      <td>371443</td>\n",
       "      <td>...</td>\n",
       "      <td>NaN</td>\n",
       "      <td>NaN</td>\n",
       "      <td>-87.661323</td>\n",
       "      <td>NaN</td>\n",
       "      <td>NaN</td>\n",
       "      <td>NaN</td>\n",
       "      <td>NaN</td>\n",
       "      <td>NaN</td>\n",
       "      <td>NaN</td>\n",
       "      <td>NaN</td>\n",
       "    </tr>\n",
       "    <tr>\n",
       "      <th>6354732</th>\n",
       "      <td>2019-09-30T13:40:57.000</td>\n",
       "      <td>2019-09-30T00:00:00.000</td>\n",
       "      <td>PL151137</td>\n",
       "      <td>OPEN</td>\n",
       "      <td>NaN</td>\n",
       "      <td>OPEN</td>\n",
       "      <td>NaN</td>\n",
       "      <td>NaN</td>\n",
       "      <td>NaN</td>\n",
       "      <td>BL00586</td>\n",
       "      <td>...</td>\n",
       "      <td>NaN</td>\n",
       "      <td>NaN</td>\n",
       "      <td>-87.684883</td>\n",
       "      <td>NaN</td>\n",
       "      <td>NaN</td>\n",
       "      <td>NaN</td>\n",
       "      <td>NaN</td>\n",
       "      <td>NaN</td>\n",
       "      <td>NaN</td>\n",
       "      <td>NaN</td>\n",
       "    </tr>\n",
       "  </tbody>\n",
       "</table>\n",
       "<p>5 rows × 31 columns</p>\n",
       "</div>"
      ],
      "text/plain": [
       "        VIOLATION LAST MODIFIED DATE           VIOLATION DATE VIOLATION CODE  \\\n",
       "ID                                                                             \n",
       "6391532      2019-12-03T12:06:47.000  2019-11-29T00:00:00.000       CN021053   \n",
       "6391531      2019-12-03T12:02:30.000  2019-11-29T00:00:00.000       CN039013   \n",
       "6390793      2019-11-27T12:53:04.000  2019-11-27T00:00:00.000       CN190019   \n",
       "6390792      2019-11-27T12:53:04.000  2019-11-27T00:00:00.000       CN061014   \n",
       "6354732      2019-09-30T13:40:57.000  2019-09-30T00:00:00.000       PL151137   \n",
       "\n",
       "        VIOLATION STATUS VIOLATION STATUS DATE  \\\n",
       "ID                                               \n",
       "6391532             OPEN                   NaN   \n",
       "6391531             OPEN                   NaN   \n",
       "6390793             OPEN                   NaN   \n",
       "6390792             OPEN                   NaN   \n",
       "6354732             OPEN                   NaN   \n",
       "\n",
       "                  VIOLATION DESCRIPTION   VIOLATION LOCATION  \\\n",
       "ID                                                             \n",
       "6391532  DOOR W/PANIC HRDWR-200+ ASMBLY                  NaN   \n",
       "6391531    POST APPROVED OCCUPANCY CARD                  NaN   \n",
       "6390793      ARRANGE PREMISE INSPECTION  OTHER   :    :OTHER   \n",
       "6390792            REPAIR EXTERIOR WALL  OTHER   :    :OTHER   \n",
       "6354732                            OPEN                  NaN   \n",
       "\n",
       "                              VIOLATION INSPECTOR COMMENTS  \\\n",
       "ID                                                           \n",
       "6391532  INSTALL PANIC HARDWARE ON DOUBLE GLASS DOORS F...   \n",
       "6391531  OCCUPANCY CAPACITY CARD REQUIRED AT 6TH FLOOR ...   \n",
       "6390793  INTERIOR OF BUILDING - NO RESPONSE. UNABLE TO ...   \n",
       "6390792  FRONT ELEVATION/ EXTERIOR WALL - BOARDED UP WI...   \n",
       "6354732                                                NaN   \n",
       "\n",
       "                                       VIOLATION ORDINANCE INSPECTOR ID  \\\n",
       "ID                                                                        \n",
       "6391532  Failed to provide exit door with approved latc...      BL00904   \n",
       "6391531  Failed to post in a conspicuous location, the ...      BL00904   \n",
       "6390793    Arrange for inspection of premises. (13-12-100)       371443   \n",
       "6390792  Failed to maintain the exterior walls of a bui...       371443   \n",
       "6354732                                                NaN      BL00586   \n",
       "\n",
       "                   ...              SSA LATITUDE  LONGITUDE LOCATION  \\\n",
       "ID                 ...                                                 \n",
       "6391532            ...              NaN      NaN -87.692264      NaN   \n",
       "6391531            ...              NaN      NaN -87.692264      NaN   \n",
       "6390793            ...              NaN      NaN -87.661323      NaN   \n",
       "6390792            ...              NaN      NaN -87.661323      NaN   \n",
       "6354732            ...              NaN      NaN -87.684883      NaN   \n",
       "\n",
       "        Community Areas Zip Codes  Boundaries - ZIP Codes Census Tracts Wards  \\\n",
       "ID                                                                              \n",
       "6391532             NaN       NaN                     NaN           NaN   NaN   \n",
       "6391531             NaN       NaN                     NaN           NaN   NaN   \n",
       "6390793             NaN       NaN                     NaN           NaN   NaN   \n",
       "6390792             NaN       NaN                     NaN           NaN   NaN   \n",
       "6354732             NaN       NaN                     NaN           NaN   NaN   \n",
       "\n",
       "        Historical Wards 2003-2015  \n",
       "ID                                  \n",
       "6391532                        NaN  \n",
       "6391531                        NaN  \n",
       "6390793                        NaN  \n",
       "6390792                        NaN  \n",
       "6354732                        NaN  \n",
       "\n",
       "[5 rows x 31 columns]"
      ]
     },
     "execution_count": 63,
     "metadata": {},
     "output_type": "execute_result"
    }
   ],
   "source": [
    "new_data[data['LONGITUDE'].isna()].head(5)"
   ]
  },
  {
   "cell_type": "code",
   "execution_count": 68,
   "id": "86553f7d",
   "metadata": {},
   "outputs": [
    {
     "name": "stdout",
     "output_type": "stream",
     "text": [
      "LONGITUDE字段已经被填充了\n"
     ]
    }
   ],
   "source": [
    "print('LONGITUDE字段已经被填充了')"
   ]
  },
  {
   "cell_type": "code",
   "execution_count": 65,
   "id": "94ad2699",
   "metadata": {},
   "outputs": [
    {
     "name": "stdout",
     "output_type": "stream",
     "text": [
      "通过数据对象之间的相似性来填补缺失值\n"
     ]
    },
    {
     "name": "stderr",
     "output_type": "stream",
     "text": [
      "100%|████████████████████████████████████████████████████████████████████████████████████| 5/5 [01:18<00:00, 15.76s/it]\n"
     ]
    }
   ],
   "source": [
    "print('通过数据对象之间的相似性来填补缺失值，为了节省时间，以5个数据为例')\n",
    "full_data = data[data['LONGITUDE'].notna()]\n",
    "new_data = data.copy()\n",
    "consider_fields = ['STREET NUMBER', 'PROPERTY GROUP']\n",
    "for i, row in tqdm.tqdm(list(new_data[data['LONGITUDE'].isna()].head(5).iterrows())):\n",
    "    for field in consider_fields:\n",
    "        tmp_data = full_data[full_data[field]==row[field]]\n",
    "        if len(tmp_data) > 0:\n",
    "            new_data['LONGITUDE'][i] = tmp_data['LONGITUDE'].mean()\n",
    "            break"
   ]
  },
  {
   "cell_type": "code",
   "execution_count": 66,
   "id": "6670f77b",
   "metadata": {},
   "outputs": [
    {
     "data": {
      "text/html": [
       "<div>\n",
       "<style scoped>\n",
       "    .dataframe tbody tr th:only-of-type {\n",
       "        vertical-align: middle;\n",
       "    }\n",
       "\n",
       "    .dataframe tbody tr th {\n",
       "        vertical-align: top;\n",
       "    }\n",
       "\n",
       "    .dataframe thead th {\n",
       "        text-align: right;\n",
       "    }\n",
       "</style>\n",
       "<table border=\"1\" class=\"dataframe\">\n",
       "  <thead>\n",
       "    <tr style=\"text-align: right;\">\n",
       "      <th></th>\n",
       "      <th>VIOLATION LAST MODIFIED DATE</th>\n",
       "      <th>VIOLATION DATE</th>\n",
       "      <th>VIOLATION CODE</th>\n",
       "      <th>VIOLATION STATUS</th>\n",
       "      <th>VIOLATION STATUS DATE</th>\n",
       "      <th>VIOLATION DESCRIPTION</th>\n",
       "      <th>VIOLATION LOCATION</th>\n",
       "      <th>VIOLATION INSPECTOR COMMENTS</th>\n",
       "      <th>VIOLATION ORDINANCE</th>\n",
       "      <th>INSPECTOR ID</th>\n",
       "      <th>...</th>\n",
       "      <th>SSA</th>\n",
       "      <th>LATITUDE</th>\n",
       "      <th>LONGITUDE</th>\n",
       "      <th>LOCATION</th>\n",
       "      <th>Community Areas</th>\n",
       "      <th>Zip Codes</th>\n",
       "      <th>Boundaries - ZIP Codes</th>\n",
       "      <th>Census Tracts</th>\n",
       "      <th>Wards</th>\n",
       "      <th>Historical Wards 2003-2015</th>\n",
       "    </tr>\n",
       "    <tr>\n",
       "      <th>ID</th>\n",
       "      <th></th>\n",
       "      <th></th>\n",
       "      <th></th>\n",
       "      <th></th>\n",
       "      <th></th>\n",
       "      <th></th>\n",
       "      <th></th>\n",
       "      <th></th>\n",
       "      <th></th>\n",
       "      <th></th>\n",
       "      <th></th>\n",
       "      <th></th>\n",
       "      <th></th>\n",
       "      <th></th>\n",
       "      <th></th>\n",
       "      <th></th>\n",
       "      <th></th>\n",
       "      <th></th>\n",
       "      <th></th>\n",
       "      <th></th>\n",
       "      <th></th>\n",
       "    </tr>\n",
       "  </thead>\n",
       "  <tbody>\n",
       "    <tr>\n",
       "      <th>6391532</th>\n",
       "      <td>2019-12-03T12:06:47.000</td>\n",
       "      <td>2019-11-29T00:00:00.000</td>\n",
       "      <td>CN021053</td>\n",
       "      <td>OPEN</td>\n",
       "      <td>NaN</td>\n",
       "      <td>DOOR W/PANIC HRDWR-200+ ASMBLY</td>\n",
       "      <td>NaN</td>\n",
       "      <td>INSTALL PANIC HARDWARE ON DOUBLE GLASS DOORS F...</td>\n",
       "      <td>Failed to provide exit door with approved latc...</td>\n",
       "      <td>BL00904</td>\n",
       "      <td>...</td>\n",
       "      <td>NaN</td>\n",
       "      <td>NaN</td>\n",
       "      <td>NaN</td>\n",
       "      <td>NaN</td>\n",
       "      <td>NaN</td>\n",
       "      <td>NaN</td>\n",
       "      <td>NaN</td>\n",
       "      <td>NaN</td>\n",
       "      <td>NaN</td>\n",
       "      <td>NaN</td>\n",
       "    </tr>\n",
       "    <tr>\n",
       "      <th>6391531</th>\n",
       "      <td>2019-12-03T12:02:30.000</td>\n",
       "      <td>2019-11-29T00:00:00.000</td>\n",
       "      <td>CN039013</td>\n",
       "      <td>OPEN</td>\n",
       "      <td>NaN</td>\n",
       "      <td>POST APPROVED OCCUPANCY CARD</td>\n",
       "      <td>NaN</td>\n",
       "      <td>OCCUPANCY CAPACITY CARD REQUIRED AT 6TH FLOOR ...</td>\n",
       "      <td>Failed to post in a conspicuous location, the ...</td>\n",
       "      <td>BL00904</td>\n",
       "      <td>...</td>\n",
       "      <td>NaN</td>\n",
       "      <td>NaN</td>\n",
       "      <td>NaN</td>\n",
       "      <td>NaN</td>\n",
       "      <td>NaN</td>\n",
       "      <td>NaN</td>\n",
       "      <td>NaN</td>\n",
       "      <td>NaN</td>\n",
       "      <td>NaN</td>\n",
       "      <td>NaN</td>\n",
       "    </tr>\n",
       "    <tr>\n",
       "      <th>6390793</th>\n",
       "      <td>2019-11-27T12:53:04.000</td>\n",
       "      <td>2019-11-27T00:00:00.000</td>\n",
       "      <td>CN190019</td>\n",
       "      <td>OPEN</td>\n",
       "      <td>NaN</td>\n",
       "      <td>ARRANGE PREMISE INSPECTION</td>\n",
       "      <td>OTHER   :    :OTHER</td>\n",
       "      <td>INTERIOR OF BUILDING - NO RESPONSE. UNABLE TO ...</td>\n",
       "      <td>Arrange for inspection of premises. (13-12-100)</td>\n",
       "      <td>371443</td>\n",
       "      <td>...</td>\n",
       "      <td>NaN</td>\n",
       "      <td>NaN</td>\n",
       "      <td>NaN</td>\n",
       "      <td>NaN</td>\n",
       "      <td>NaN</td>\n",
       "      <td>NaN</td>\n",
       "      <td>NaN</td>\n",
       "      <td>NaN</td>\n",
       "      <td>NaN</td>\n",
       "      <td>NaN</td>\n",
       "    </tr>\n",
       "    <tr>\n",
       "      <th>6390792</th>\n",
       "      <td>2019-11-27T12:53:04.000</td>\n",
       "      <td>2019-11-27T00:00:00.000</td>\n",
       "      <td>CN061014</td>\n",
       "      <td>OPEN</td>\n",
       "      <td>NaN</td>\n",
       "      <td>REPAIR EXTERIOR WALL</td>\n",
       "      <td>OTHER   :    :OTHER</td>\n",
       "      <td>FRONT ELEVATION/ EXTERIOR WALL - BOARDED UP WI...</td>\n",
       "      <td>Failed to maintain the exterior walls of a bui...</td>\n",
       "      <td>371443</td>\n",
       "      <td>...</td>\n",
       "      <td>NaN</td>\n",
       "      <td>NaN</td>\n",
       "      <td>NaN</td>\n",
       "      <td>NaN</td>\n",
       "      <td>NaN</td>\n",
       "      <td>NaN</td>\n",
       "      <td>NaN</td>\n",
       "      <td>NaN</td>\n",
       "      <td>NaN</td>\n",
       "      <td>NaN</td>\n",
       "    </tr>\n",
       "    <tr>\n",
       "      <th>6354732</th>\n",
       "      <td>2019-09-30T13:40:57.000</td>\n",
       "      <td>2019-09-30T00:00:00.000</td>\n",
       "      <td>PL151137</td>\n",
       "      <td>OPEN</td>\n",
       "      <td>NaN</td>\n",
       "      <td>OPEN</td>\n",
       "      <td>NaN</td>\n",
       "      <td>NaN</td>\n",
       "      <td>NaN</td>\n",
       "      <td>BL00586</td>\n",
       "      <td>...</td>\n",
       "      <td>NaN</td>\n",
       "      <td>NaN</td>\n",
       "      <td>NaN</td>\n",
       "      <td>NaN</td>\n",
       "      <td>NaN</td>\n",
       "      <td>NaN</td>\n",
       "      <td>NaN</td>\n",
       "      <td>NaN</td>\n",
       "      <td>NaN</td>\n",
       "      <td>NaN</td>\n",
       "    </tr>\n",
       "  </tbody>\n",
       "</table>\n",
       "<p>5 rows × 31 columns</p>\n",
       "</div>"
      ],
      "text/plain": [
       "        VIOLATION LAST MODIFIED DATE           VIOLATION DATE VIOLATION CODE  \\\n",
       "ID                                                                             \n",
       "6391532      2019-12-03T12:06:47.000  2019-11-29T00:00:00.000       CN021053   \n",
       "6391531      2019-12-03T12:02:30.000  2019-11-29T00:00:00.000       CN039013   \n",
       "6390793      2019-11-27T12:53:04.000  2019-11-27T00:00:00.000       CN190019   \n",
       "6390792      2019-11-27T12:53:04.000  2019-11-27T00:00:00.000       CN061014   \n",
       "6354732      2019-09-30T13:40:57.000  2019-09-30T00:00:00.000       PL151137   \n",
       "\n",
       "        VIOLATION STATUS VIOLATION STATUS DATE  \\\n",
       "ID                                               \n",
       "6391532             OPEN                   NaN   \n",
       "6391531             OPEN                   NaN   \n",
       "6390793             OPEN                   NaN   \n",
       "6390792             OPEN                   NaN   \n",
       "6354732             OPEN                   NaN   \n",
       "\n",
       "                  VIOLATION DESCRIPTION   VIOLATION LOCATION  \\\n",
       "ID                                                             \n",
       "6391532  DOOR W/PANIC HRDWR-200+ ASMBLY                  NaN   \n",
       "6391531    POST APPROVED OCCUPANCY CARD                  NaN   \n",
       "6390793      ARRANGE PREMISE INSPECTION  OTHER   :    :OTHER   \n",
       "6390792            REPAIR EXTERIOR WALL  OTHER   :    :OTHER   \n",
       "6354732                            OPEN                  NaN   \n",
       "\n",
       "                              VIOLATION INSPECTOR COMMENTS  \\\n",
       "ID                                                           \n",
       "6391532  INSTALL PANIC HARDWARE ON DOUBLE GLASS DOORS F...   \n",
       "6391531  OCCUPANCY CAPACITY CARD REQUIRED AT 6TH FLOOR ...   \n",
       "6390793  INTERIOR OF BUILDING - NO RESPONSE. UNABLE TO ...   \n",
       "6390792  FRONT ELEVATION/ EXTERIOR WALL - BOARDED UP WI...   \n",
       "6354732                                                NaN   \n",
       "\n",
       "                                       VIOLATION ORDINANCE INSPECTOR ID  \\\n",
       "ID                                                                        \n",
       "6391532  Failed to provide exit door with approved latc...      BL00904   \n",
       "6391531  Failed to post in a conspicuous location, the ...      BL00904   \n",
       "6390793    Arrange for inspection of premises. (13-12-100)       371443   \n",
       "6390792  Failed to maintain the exterior walls of a bui...       371443   \n",
       "6354732                                                NaN      BL00586   \n",
       "\n",
       "                   ...              SSA LATITUDE LONGITUDE LOCATION  \\\n",
       "ID                 ...                                                \n",
       "6391532            ...              NaN      NaN       NaN      NaN   \n",
       "6391531            ...              NaN      NaN       NaN      NaN   \n",
       "6390793            ...              NaN      NaN       NaN      NaN   \n",
       "6390792            ...              NaN      NaN       NaN      NaN   \n",
       "6354732            ...              NaN      NaN       NaN      NaN   \n",
       "\n",
       "        Community Areas Zip Codes  Boundaries - ZIP Codes Census Tracts Wards  \\\n",
       "ID                                                                              \n",
       "6391532             NaN       NaN                     NaN           NaN   NaN   \n",
       "6391531             NaN       NaN                     NaN           NaN   NaN   \n",
       "6390793             NaN       NaN                     NaN           NaN   NaN   \n",
       "6390792             NaN       NaN                     NaN           NaN   NaN   \n",
       "6354732             NaN       NaN                     NaN           NaN   NaN   \n",
       "\n",
       "        Historical Wards 2003-2015  \n",
       "ID                                  \n",
       "6391532                        NaN  \n",
       "6391531                        NaN  \n",
       "6390793                        NaN  \n",
       "6390792                        NaN  \n",
       "6354732                        NaN  \n",
       "\n",
       "[5 rows x 31 columns]"
      ]
     },
     "execution_count": 66,
     "metadata": {},
     "output_type": "execute_result"
    }
   ],
   "source": [
    "data[data['LONGITUDE'].isna()].head(5)"
   ]
  },
  {
   "cell_type": "code",
   "execution_count": 67,
   "id": "37bfc7fd",
   "metadata": {},
   "outputs": [
    {
     "data": {
      "text/html": [
       "<div>\n",
       "<style scoped>\n",
       "    .dataframe tbody tr th:only-of-type {\n",
       "        vertical-align: middle;\n",
       "    }\n",
       "\n",
       "    .dataframe tbody tr th {\n",
       "        vertical-align: top;\n",
       "    }\n",
       "\n",
       "    .dataframe thead th {\n",
       "        text-align: right;\n",
       "    }\n",
       "</style>\n",
       "<table border=\"1\" class=\"dataframe\">\n",
       "  <thead>\n",
       "    <tr style=\"text-align: right;\">\n",
       "      <th></th>\n",
       "      <th>VIOLATION LAST MODIFIED DATE</th>\n",
       "      <th>VIOLATION DATE</th>\n",
       "      <th>VIOLATION CODE</th>\n",
       "      <th>VIOLATION STATUS</th>\n",
       "      <th>VIOLATION STATUS DATE</th>\n",
       "      <th>VIOLATION DESCRIPTION</th>\n",
       "      <th>VIOLATION LOCATION</th>\n",
       "      <th>VIOLATION INSPECTOR COMMENTS</th>\n",
       "      <th>VIOLATION ORDINANCE</th>\n",
       "      <th>INSPECTOR ID</th>\n",
       "      <th>...</th>\n",
       "      <th>SSA</th>\n",
       "      <th>LATITUDE</th>\n",
       "      <th>LONGITUDE</th>\n",
       "      <th>LOCATION</th>\n",
       "      <th>Community Areas</th>\n",
       "      <th>Zip Codes</th>\n",
       "      <th>Boundaries - ZIP Codes</th>\n",
       "      <th>Census Tracts</th>\n",
       "      <th>Wards</th>\n",
       "      <th>Historical Wards 2003-2015</th>\n",
       "    </tr>\n",
       "    <tr>\n",
       "      <th>ID</th>\n",
       "      <th></th>\n",
       "      <th></th>\n",
       "      <th></th>\n",
       "      <th></th>\n",
       "      <th></th>\n",
       "      <th></th>\n",
       "      <th></th>\n",
       "      <th></th>\n",
       "      <th></th>\n",
       "      <th></th>\n",
       "      <th></th>\n",
       "      <th></th>\n",
       "      <th></th>\n",
       "      <th></th>\n",
       "      <th></th>\n",
       "      <th></th>\n",
       "      <th></th>\n",
       "      <th></th>\n",
       "      <th></th>\n",
       "      <th></th>\n",
       "      <th></th>\n",
       "    </tr>\n",
       "  </thead>\n",
       "  <tbody>\n",
       "    <tr>\n",
       "      <th>6391532</th>\n",
       "      <td>2019-12-03T12:06:47.000</td>\n",
       "      <td>2019-11-29T00:00:00.000</td>\n",
       "      <td>CN021053</td>\n",
       "      <td>OPEN</td>\n",
       "      <td>NaN</td>\n",
       "      <td>DOOR W/PANIC HRDWR-200+ ASMBLY</td>\n",
       "      <td>NaN</td>\n",
       "      <td>INSTALL PANIC HARDWARE ON DOUBLE GLASS DOORS F...</td>\n",
       "      <td>Failed to provide exit door with approved latc...</td>\n",
       "      <td>BL00904</td>\n",
       "      <td>...</td>\n",
       "      <td>NaN</td>\n",
       "      <td>NaN</td>\n",
       "      <td>-87.663686</td>\n",
       "      <td>NaN</td>\n",
       "      <td>NaN</td>\n",
       "      <td>NaN</td>\n",
       "      <td>NaN</td>\n",
       "      <td>NaN</td>\n",
       "      <td>NaN</td>\n",
       "      <td>NaN</td>\n",
       "    </tr>\n",
       "    <tr>\n",
       "      <th>6391531</th>\n",
       "      <td>2019-12-03T12:02:30.000</td>\n",
       "      <td>2019-11-29T00:00:00.000</td>\n",
       "      <td>CN039013</td>\n",
       "      <td>OPEN</td>\n",
       "      <td>NaN</td>\n",
       "      <td>POST APPROVED OCCUPANCY CARD</td>\n",
       "      <td>NaN</td>\n",
       "      <td>OCCUPANCY CAPACITY CARD REQUIRED AT 6TH FLOOR ...</td>\n",
       "      <td>Failed to post in a conspicuous location, the ...</td>\n",
       "      <td>BL00904</td>\n",
       "      <td>...</td>\n",
       "      <td>NaN</td>\n",
       "      <td>NaN</td>\n",
       "      <td>-87.663686</td>\n",
       "      <td>NaN</td>\n",
       "      <td>NaN</td>\n",
       "      <td>NaN</td>\n",
       "      <td>NaN</td>\n",
       "      <td>NaN</td>\n",
       "      <td>NaN</td>\n",
       "      <td>NaN</td>\n",
       "    </tr>\n",
       "    <tr>\n",
       "      <th>6390793</th>\n",
       "      <td>2019-11-27T12:53:04.000</td>\n",
       "      <td>2019-11-27T00:00:00.000</td>\n",
       "      <td>CN190019</td>\n",
       "      <td>OPEN</td>\n",
       "      <td>NaN</td>\n",
       "      <td>ARRANGE PREMISE INSPECTION</td>\n",
       "      <td>OTHER   :    :OTHER</td>\n",
       "      <td>INTERIOR OF BUILDING - NO RESPONSE. UNABLE TO ...</td>\n",
       "      <td>Arrange for inspection of premises. (13-12-100)</td>\n",
       "      <td>371443</td>\n",
       "      <td>...</td>\n",
       "      <td>NaN</td>\n",
       "      <td>NaN</td>\n",
       "      <td>-87.798839</td>\n",
       "      <td>NaN</td>\n",
       "      <td>NaN</td>\n",
       "      <td>NaN</td>\n",
       "      <td>NaN</td>\n",
       "      <td>NaN</td>\n",
       "      <td>NaN</td>\n",
       "      <td>NaN</td>\n",
       "    </tr>\n",
       "    <tr>\n",
       "      <th>6390792</th>\n",
       "      <td>2019-11-27T12:53:04.000</td>\n",
       "      <td>2019-11-27T00:00:00.000</td>\n",
       "      <td>CN061014</td>\n",
       "      <td>OPEN</td>\n",
       "      <td>NaN</td>\n",
       "      <td>REPAIR EXTERIOR WALL</td>\n",
       "      <td>OTHER   :    :OTHER</td>\n",
       "      <td>FRONT ELEVATION/ EXTERIOR WALL - BOARDED UP WI...</td>\n",
       "      <td>Failed to maintain the exterior walls of a bui...</td>\n",
       "      <td>371443</td>\n",
       "      <td>...</td>\n",
       "      <td>NaN</td>\n",
       "      <td>NaN</td>\n",
       "      <td>-87.798839</td>\n",
       "      <td>NaN</td>\n",
       "      <td>NaN</td>\n",
       "      <td>NaN</td>\n",
       "      <td>NaN</td>\n",
       "      <td>NaN</td>\n",
       "      <td>NaN</td>\n",
       "      <td>NaN</td>\n",
       "    </tr>\n",
       "    <tr>\n",
       "      <th>6354732</th>\n",
       "      <td>2019-09-30T13:40:57.000</td>\n",
       "      <td>2019-09-30T00:00:00.000</td>\n",
       "      <td>PL151137</td>\n",
       "      <td>OPEN</td>\n",
       "      <td>NaN</td>\n",
       "      <td>OPEN</td>\n",
       "      <td>NaN</td>\n",
       "      <td>NaN</td>\n",
       "      <td>NaN</td>\n",
       "      <td>BL00586</td>\n",
       "      <td>...</td>\n",
       "      <td>NaN</td>\n",
       "      <td>NaN</td>\n",
       "      <td>-87.706503</td>\n",
       "      <td>NaN</td>\n",
       "      <td>NaN</td>\n",
       "      <td>NaN</td>\n",
       "      <td>NaN</td>\n",
       "      <td>NaN</td>\n",
       "      <td>NaN</td>\n",
       "      <td>NaN</td>\n",
       "    </tr>\n",
       "  </tbody>\n",
       "</table>\n",
       "<p>5 rows × 31 columns</p>\n",
       "</div>"
      ],
      "text/plain": [
       "        VIOLATION LAST MODIFIED DATE           VIOLATION DATE VIOLATION CODE  \\\n",
       "ID                                                                             \n",
       "6391532      2019-12-03T12:06:47.000  2019-11-29T00:00:00.000       CN021053   \n",
       "6391531      2019-12-03T12:02:30.000  2019-11-29T00:00:00.000       CN039013   \n",
       "6390793      2019-11-27T12:53:04.000  2019-11-27T00:00:00.000       CN190019   \n",
       "6390792      2019-11-27T12:53:04.000  2019-11-27T00:00:00.000       CN061014   \n",
       "6354732      2019-09-30T13:40:57.000  2019-09-30T00:00:00.000       PL151137   \n",
       "\n",
       "        VIOLATION STATUS VIOLATION STATUS DATE  \\\n",
       "ID                                               \n",
       "6391532             OPEN                   NaN   \n",
       "6391531             OPEN                   NaN   \n",
       "6390793             OPEN                   NaN   \n",
       "6390792             OPEN                   NaN   \n",
       "6354732             OPEN                   NaN   \n",
       "\n",
       "                  VIOLATION DESCRIPTION   VIOLATION LOCATION  \\\n",
       "ID                                                             \n",
       "6391532  DOOR W/PANIC HRDWR-200+ ASMBLY                  NaN   \n",
       "6391531    POST APPROVED OCCUPANCY CARD                  NaN   \n",
       "6390793      ARRANGE PREMISE INSPECTION  OTHER   :    :OTHER   \n",
       "6390792            REPAIR EXTERIOR WALL  OTHER   :    :OTHER   \n",
       "6354732                            OPEN                  NaN   \n",
       "\n",
       "                              VIOLATION INSPECTOR COMMENTS  \\\n",
       "ID                                                           \n",
       "6391532  INSTALL PANIC HARDWARE ON DOUBLE GLASS DOORS F...   \n",
       "6391531  OCCUPANCY CAPACITY CARD REQUIRED AT 6TH FLOOR ...   \n",
       "6390793  INTERIOR OF BUILDING - NO RESPONSE. UNABLE TO ...   \n",
       "6390792  FRONT ELEVATION/ EXTERIOR WALL - BOARDED UP WI...   \n",
       "6354732                                                NaN   \n",
       "\n",
       "                                       VIOLATION ORDINANCE INSPECTOR ID  \\\n",
       "ID                                                                        \n",
       "6391532  Failed to provide exit door with approved latc...      BL00904   \n",
       "6391531  Failed to post in a conspicuous location, the ...      BL00904   \n",
       "6390793    Arrange for inspection of premises. (13-12-100)       371443   \n",
       "6390792  Failed to maintain the exterior walls of a bui...       371443   \n",
       "6354732                                                NaN      BL00586   \n",
       "\n",
       "                   ...              SSA LATITUDE  LONGITUDE LOCATION  \\\n",
       "ID                 ...                                                 \n",
       "6391532            ...              NaN      NaN -87.663686      NaN   \n",
       "6391531            ...              NaN      NaN -87.663686      NaN   \n",
       "6390793            ...              NaN      NaN -87.798839      NaN   \n",
       "6390792            ...              NaN      NaN -87.798839      NaN   \n",
       "6354732            ...              NaN      NaN -87.706503      NaN   \n",
       "\n",
       "        Community Areas Zip Codes  Boundaries - ZIP Codes Census Tracts Wards  \\\n",
       "ID                                                                              \n",
       "6391532             NaN       NaN                     NaN           NaN   NaN   \n",
       "6391531             NaN       NaN                     NaN           NaN   NaN   \n",
       "6390793             NaN       NaN                     NaN           NaN   NaN   \n",
       "6390792             NaN       NaN                     NaN           NaN   NaN   \n",
       "6354732             NaN       NaN                     NaN           NaN   NaN   \n",
       "\n",
       "        Historical Wards 2003-2015  \n",
       "ID                                  \n",
       "6391532                        NaN  \n",
       "6391531                        NaN  \n",
       "6390793                        NaN  \n",
       "6390792                        NaN  \n",
       "6354732                        NaN  \n",
       "\n",
       "[5 rows x 31 columns]"
      ]
     },
     "execution_count": 67,
     "metadata": {},
     "output_type": "execute_result"
    }
   ],
   "source": [
    "new_data[data['LONGITUDE'].isna()].head(5)"
   ]
  },
  {
   "cell_type": "code",
   "execution_count": 69,
   "id": "22fa0ffd",
   "metadata": {},
   "outputs": [
    {
     "name": "stdout",
     "output_type": "stream",
     "text": [
      "LONGITUDE字段已经被填充了\n"
     ]
    }
   ],
   "source": [
    "print('LONGITUDE字段已经被填充了')"
   ]
  },
  {
   "cell_type": "code",
   "execution_count": null,
   "id": "ddf57d93",
   "metadata": {},
   "outputs": [],
   "source": []
  }
 ],
 "metadata": {
  "kernelspec": {
   "display_name": "Python 3",
   "language": "python",
   "name": "python3"
  },
  "language_info": {
   "codemirror_mode": {
    "name": "ipython",
    "version": 3
   },
   "file_extension": ".py",
   "mimetype": "text/x-python",
   "name": "python",
   "nbconvert_exporter": "python",
   "pygments_lexer": "ipython3",
   "version": "3.5.6"
  }
 },
 "nbformat": 4,
 "nbformat_minor": 5
}
